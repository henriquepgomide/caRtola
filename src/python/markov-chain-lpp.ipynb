{
 "cells": [
  {
   "cell_type": "markdown",
   "metadata": {},
   "source": [
    "# Escalando Cartola com Cadeias de Markov e Programação Linear"
   ]
  },
  {
   "cell_type": "markdown",
   "metadata": {},
   "source": [
    "### Motivação\n",
    "\n",
    "Meu time foi rebaixado, provavelmente não teremos Cartola FC para Série B em 2020."
   ]
  },
  {
   "cell_type": "markdown",
   "metadata": {},
   "source": [
    "### Resumo\n",
    "\n",
    "___O time está em uma má fase!___\n",
    "\n",
    "Times de futebol passam por diferentes fases, e a impressão é sempre que os resultados resultados anteriores influenciam nos jogos seguintes. A maioria dos modelos que utilizamos para modelagem, assumem que os dados são i.i.d(independent and identically distributed), caso o jogo anterior realmente influencie no resultado, essa premissa não é verdadeira, e talvez um modelo para trabalhar com dados sequenciais funcione melhor."
   ]
  },
  {
   "cell_type": "markdown",
   "metadata": {},
   "source": [
    "### Técnica\n",
    "\n",
    "[Cadeias de Markov](http://www.columbia.edu/~jwp2128/Teaching/W4721/Spring2017/slides/lecture_4-11-17.pdf)"
   ]
  },
  {
   "cell_type": "markdown",
   "metadata": {},
   "source": [
    "### Créditos:\n",
    "* Todas as bases utilizadas nesse estudo, são parte do trabalho conduzido pelo [Henrique Gomide](https://twitter.com/hpgomide), e estão disponíveis nesse [repositório](https://github.com/henriquepgomide/caRtola).\n",
    "* Vários dos conceitos aplicados nesse estudo, tem como referência o trabalho do professor [John Paisley](http://www.columbia.edu/~jwp2128/) da universidade de Columbia, para montar um ranking de clubes de basquete universitário com Cadeias de Markov. Todo o conceito aplicado está disponível [aqui](http://www.columbia.edu/~jwp2128/Teaching/W4721/Spring2017/slides/lecture_4-11-17.pdf).\n",
    "* A otimização linear teve como referência o artigo feito por Gupta, Akhil na International Conference on Sports Engineering ICSE-2017, disponível no [link](https://arxiv.org/ftp/arxiv/papers/1909/1909.12938.pdf)."
   ]
  },
  {
   "cell_type": "markdown",
   "metadata": {},
   "source": [
    "# Gerando lista com todos jogadores"
   ]
  },
  {
   "cell_type": "markdown",
   "metadata": {},
   "source": [
    "Para gerar a nossa matriz de transições, precisamos manter a quantidade de jogadores única. Para isso, vamos usar o arquivo de média dos jogadores, apenas para conseguir todos os jogadores que atuaram no ano e a sua posição."
   ]
  },
  {
   "cell_type": "code",
   "execution_count": 1,
   "metadata": {},
   "outputs": [],
   "source": [
    "import pandas as pd"
   ]
  },
  {
   "cell_type": "code",
   "execution_count": 2,
   "metadata": {},
   "outputs": [],
   "source": [
    "medias = pd.read_csv(r'..\\..\\data\\2019\\2019-medias-jogadores.csv')"
   ]
  },
  {
   "cell_type": "code",
   "execution_count": 3,
   "metadata": {},
   "outputs": [
    {
     "data": {
      "text/html": [
       "<div>\n",
       "<style scoped>\n",
       "    .dataframe tbody tr th:only-of-type {\n",
       "        vertical-align: middle;\n",
       "    }\n",
       "\n",
       "    .dataframe tbody tr th {\n",
       "        vertical-align: top;\n",
       "    }\n",
       "\n",
       "    .dataframe thead th {\n",
       "        text-align: right;\n",
       "    }\n",
       "</style>\n",
       "<table border=\"1\" class=\"dataframe\">\n",
       "  <thead>\n",
       "    <tr style=\"text-align: right;\">\n",
       "      <th></th>\n",
       "      <th>player_slug</th>\n",
       "      <th>player_id</th>\n",
       "      <th>player_nickname</th>\n",
       "      <th>player_team</th>\n",
       "      <th>player_position</th>\n",
       "      <th>price_cartoletas</th>\n",
       "      <th>score_mean</th>\n",
       "      <th>score_no_cleansheets_mean</th>\n",
       "      <th>diff_home_away_s</th>\n",
       "      <th>n_games</th>\n",
       "      <th>...</th>\n",
       "      <th>A_mean</th>\n",
       "      <th>I_mean</th>\n",
       "      <th>FS_mean</th>\n",
       "      <th>FF_mean</th>\n",
       "      <th>G_mean</th>\n",
       "      <th>DD_mean</th>\n",
       "      <th>DP_mean</th>\n",
       "      <th>status</th>\n",
       "      <th>price_diff</th>\n",
       "      <th>last_points</th>\n",
       "    </tr>\n",
       "  </thead>\n",
       "  <tbody>\n",
       "    <tr>\n",
       "      <th>0</th>\n",
       "      <td>paulo-andre</td>\n",
       "      <td>37604</td>\n",
       "      <td>Paulo André</td>\n",
       "      <td>293</td>\n",
       "      <td>zag</td>\n",
       "      <td>3.91</td>\n",
       "      <td>0.725000</td>\n",
       "      <td>-0.525000</td>\n",
       "      <td>-0.149439</td>\n",
       "      <td>4</td>\n",
       "      <td>...</td>\n",
       "      <td>0.000000</td>\n",
       "      <td>0.000000</td>\n",
       "      <td>0.000000</td>\n",
       "      <td>0.000000</td>\n",
       "      <td>0.000000</td>\n",
       "      <td>0.000000</td>\n",
       "      <td>0.000000</td>\n",
       "      <td>Provável</td>\n",
       "      <td>0.11</td>\n",
       "      <td>1.7</td>\n",
       "    </tr>\n",
       "    <tr>\n",
       "      <th>1</th>\n",
       "      <td>evandro</td>\n",
       "      <td>37614</td>\n",
       "      <td>Evandro</td>\n",
       "      <td>277</td>\n",
       "      <td>mei</td>\n",
       "      <td>5.48</td>\n",
       "      <td>2.938889</td>\n",
       "      <td>2.938889</td>\n",
       "      <td>1.593564</td>\n",
       "      <td>18</td>\n",
       "      <td>...</td>\n",
       "      <td>0.277778</td>\n",
       "      <td>0.111111</td>\n",
       "      <td>1.722222</td>\n",
       "      <td>0.277778</td>\n",
       "      <td>0.055556</td>\n",
       "      <td>0.000000</td>\n",
       "      <td>0.000000</td>\n",
       "      <td>Dúvida</td>\n",
       "      <td>-1.78</td>\n",
       "      <td>2.8</td>\n",
       "    </tr>\n",
       "    <tr>\n",
       "      <th>2</th>\n",
       "      <td>betao</td>\n",
       "      <td>37646</td>\n",
       "      <td>Betão</td>\n",
       "      <td>314</td>\n",
       "      <td>zag</td>\n",
       "      <td>3.97</td>\n",
       "      <td>1.914286</td>\n",
       "      <td>0.842857</td>\n",
       "      <td>-0.625981</td>\n",
       "      <td>28</td>\n",
       "      <td>...</td>\n",
       "      <td>0.000000</td>\n",
       "      <td>0.000000</td>\n",
       "      <td>1.000000</td>\n",
       "      <td>0.107143</td>\n",
       "      <td>0.000000</td>\n",
       "      <td>0.000000</td>\n",
       "      <td>0.000000</td>\n",
       "      <td>Provável</td>\n",
       "      <td>-0.14</td>\n",
       "      <td>0.1</td>\n",
       "    </tr>\n",
       "    <tr>\n",
       "      <th>3</th>\n",
       "      <td>rafael-moura</td>\n",
       "      <td>37655</td>\n",
       "      <td>Rafael Moura</td>\n",
       "      <td>290</td>\n",
       "      <td>ata</td>\n",
       "      <td>7.86</td>\n",
       "      <td>3.331818</td>\n",
       "      <td>3.331818</td>\n",
       "      <td>0.701920</td>\n",
       "      <td>22</td>\n",
       "      <td>...</td>\n",
       "      <td>0.045455</td>\n",
       "      <td>0.318182</td>\n",
       "      <td>1.181818</td>\n",
       "      <td>1.000000</td>\n",
       "      <td>0.409091</td>\n",
       "      <td>0.000000</td>\n",
       "      <td>0.000000</td>\n",
       "      <td>Provável</td>\n",
       "      <td>2.89</td>\n",
       "      <td>22.2</td>\n",
       "    </tr>\n",
       "    <tr>\n",
       "      <th>4</th>\n",
       "      <td>fabio</td>\n",
       "      <td>37656</td>\n",
       "      <td>Fábio</td>\n",
       "      <td>283</td>\n",
       "      <td>gol</td>\n",
       "      <td>10.35</td>\n",
       "      <td>3.445714</td>\n",
       "      <td>1.731429</td>\n",
       "      <td>0.131504</td>\n",
       "      <td>35</td>\n",
       "      <td>...</td>\n",
       "      <td>0.000000</td>\n",
       "      <td>0.000000</td>\n",
       "      <td>0.142857</td>\n",
       "      <td>0.000000</td>\n",
       "      <td>0.000000</td>\n",
       "      <td>1.257143</td>\n",
       "      <td>0.057143</td>\n",
       "      <td>Provável</td>\n",
       "      <td>0.42</td>\n",
       "      <td>2.0</td>\n",
       "    </tr>\n",
       "  </tbody>\n",
       "</table>\n",
       "<p>5 rows × 26 columns</p>\n",
       "</div>"
      ],
      "text/plain": [
       "    player_slug  player_id player_nickname  player_team player_position  \\\n",
       "0   paulo-andre      37604     Paulo André          293             zag   \n",
       "1       evandro      37614         Evandro          277             mei   \n",
       "2         betao      37646           Betão          314             zag   \n",
       "3  rafael-moura      37655    Rafael Moura          290             ata   \n",
       "4         fabio      37656           Fábio          283             gol   \n",
       "\n",
       "   price_cartoletas  score_mean  score_no_cleansheets_mean  diff_home_away_s  \\\n",
       "0              3.91    0.725000                  -0.525000         -0.149439   \n",
       "1              5.48    2.938889                   2.938889          1.593564   \n",
       "2              3.97    1.914286                   0.842857         -0.625981   \n",
       "3              7.86    3.331818                   3.331818          0.701920   \n",
       "4             10.35    3.445714                   1.731429          0.131504   \n",
       "\n",
       "   n_games  ...    A_mean    I_mean   FS_mean   FF_mean    G_mean   DD_mean  \\\n",
       "0        4  ...  0.000000  0.000000  0.000000  0.000000  0.000000  0.000000   \n",
       "1       18  ...  0.277778  0.111111  1.722222  0.277778  0.055556  0.000000   \n",
       "2       28  ...  0.000000  0.000000  1.000000  0.107143  0.000000  0.000000   \n",
       "3       22  ...  0.045455  0.318182  1.181818  1.000000  0.409091  0.000000   \n",
       "4       35  ...  0.000000  0.000000  0.142857  0.000000  0.000000  1.257143   \n",
       "\n",
       "    DP_mean    status  price_diff  last_points  \n",
       "0  0.000000  Provável        0.11          1.7  \n",
       "1  0.000000    Dúvida       -1.78          2.8  \n",
       "2  0.000000  Provável       -0.14          0.1  \n",
       "3  0.000000  Provável        2.89         22.2  \n",
       "4  0.057143  Provável        0.42          2.0  \n",
       "\n",
       "[5 rows x 26 columns]"
      ]
     },
     "execution_count": 3,
     "metadata": {},
     "output_type": "execute_result"
    }
   ],
   "source": [
    "medias.head()"
   ]
  },
  {
   "cell_type": "code",
   "execution_count": 4,
   "metadata": {},
   "outputs": [
    {
     "data": {
      "text/plain": [
       "(692, 26)"
      ]
     },
     "execution_count": 4,
     "metadata": {},
     "output_type": "execute_result"
    }
   ],
   "source": [
    "medias.shape"
   ]
  },
  {
   "cell_type": "code",
   "execution_count": 5,
   "metadata": {},
   "outputs": [
    {
     "data": {
      "text/plain": [
       "Index(['player_slug', 'player_id', 'player_nickname', 'player_team',\n",
       "       'player_position', 'price_cartoletas', 'score_mean',\n",
       "       'score_no_cleansheets_mean', 'diff_home_away_s', 'n_games',\n",
       "       'score_mean_home', 'score_mean_away', 'shots_x_mean', 'fouls_mean',\n",
       "       'RB_mean', 'PE_mean', 'A_mean', 'I_mean', 'FS_mean', 'FF_mean',\n",
       "       'G_mean', 'DD_mean', 'DP_mean', 'status', 'price_diff', 'last_points'],\n",
       "      dtype='object')"
      ]
     },
     "execution_count": 5,
     "metadata": {},
     "output_type": "execute_result"
    }
   ],
   "source": [
    "medias.columns"
   ]
  },
  {
   "cell_type": "markdown",
   "metadata": {},
   "source": [
    "Quantidade única de jogadores é do mesmo tamanho do Dataframe."
   ]
  },
  {
   "cell_type": "code",
   "execution_count": 6,
   "metadata": {},
   "outputs": [
    {
     "name": "stdout",
     "output_type": "stream",
     "text": [
      "692\n"
     ]
    }
   ],
   "source": [
    "qtd_atletas = len(medias['player_id'].unique())\n",
    "print(qtd_atletas)"
   ]
  },
  {
   "cell_type": "markdown",
   "metadata": {},
   "source": [
    "Para o contexto desse estudo, vamos analisar cada posição utilizada no Cartola separadamente. Sendo assim criamos uma lista com todas as posições existentes no arquivo médias."
   ]
  },
  {
   "cell_type": "code",
   "execution_count": 7,
   "metadata": {},
   "outputs": [],
   "source": [
    "posicoes = medias['player_position'].unique()"
   ]
  },
  {
   "cell_type": "markdown",
   "metadata": {},
   "source": [
    "Para facilitar a localização de cada jogador nas matrizes que construirmos, vamos criar um índice baseado no rankeamento do \"player_id\". Como teremos matrizes para cada posição, criamos um ranking para cada posição."
   ]
  },
  {
   "cell_type": "code",
   "execution_count": 8,
   "metadata": {},
   "outputs": [],
   "source": [
    "medias['Rank'] = None\n",
    "for posicao in posicoes:\n",
    "    rank = medias[medias['player_position'] == posicao].player_id.rank(method='min')\n",
    "    rank = rank - 1\n",
    "    medias.iloc[rank.index,-1] = rank"
   ]
  },
  {
   "cell_type": "code",
   "execution_count": 9,
   "metadata": {},
   "outputs": [],
   "source": [
    "colunas_unicos = ['Rank','player_id','player_position']\n",
    "atletas = medias[colunas_unicos].drop_duplicates()"
   ]
  },
  {
   "cell_type": "code",
   "execution_count": 10,
   "metadata": {},
   "outputs": [
    {
     "data": {
      "text/html": [
       "<div>\n",
       "<style scoped>\n",
       "    .dataframe tbody tr th:only-of-type {\n",
       "        vertical-align: middle;\n",
       "    }\n",
       "\n",
       "    .dataframe tbody tr th {\n",
       "        vertical-align: top;\n",
       "    }\n",
       "\n",
       "    .dataframe thead th {\n",
       "        text-align: right;\n",
       "    }\n",
       "</style>\n",
       "<table border=\"1\" class=\"dataframe\">\n",
       "  <thead>\n",
       "    <tr style=\"text-align: right;\">\n",
       "      <th></th>\n",
       "      <th>Rank</th>\n",
       "      <th>player_id</th>\n",
       "      <th>player_position</th>\n",
       "    </tr>\n",
       "  </thead>\n",
       "  <tbody>\n",
       "    <tr>\n",
       "      <th>0</th>\n",
       "      <td>0</td>\n",
       "      <td>37604</td>\n",
       "      <td>zag</td>\n",
       "    </tr>\n",
       "    <tr>\n",
       "      <th>1</th>\n",
       "      <td>0</td>\n",
       "      <td>37614</td>\n",
       "      <td>mei</td>\n",
       "    </tr>\n",
       "    <tr>\n",
       "      <th>2</th>\n",
       "      <td>1</td>\n",
       "      <td>37646</td>\n",
       "      <td>zag</td>\n",
       "    </tr>\n",
       "    <tr>\n",
       "      <th>3</th>\n",
       "      <td>0</td>\n",
       "      <td>37655</td>\n",
       "      <td>ata</td>\n",
       "    </tr>\n",
       "    <tr>\n",
       "      <th>4</th>\n",
       "      <td>0</td>\n",
       "      <td>37656</td>\n",
       "      <td>gol</td>\n",
       "    </tr>\n",
       "  </tbody>\n",
       "</table>\n",
       "</div>"
      ],
      "text/plain": [
       "   Rank  player_id player_position\n",
       "0     0      37604             zag\n",
       "1     0      37614             mei\n",
       "2     1      37646             zag\n",
       "3     0      37655             ata\n",
       "4     0      37656             gol"
      ]
     },
     "execution_count": 10,
     "metadata": {},
     "output_type": "execute_result"
    }
   ],
   "source": [
    "atletas.head()"
   ]
  },
  {
   "cell_type": "code",
   "execution_count": 11,
   "metadata": {},
   "outputs": [
    {
     "data": {
      "text/plain": [
       "(692, 3)"
      ]
     },
     "execution_count": 11,
     "metadata": {},
     "output_type": "execute_result"
    }
   ],
   "source": [
    "atletas.shape"
   ]
  },
  {
   "cell_type": "markdown",
   "metadata": {},
   "source": [
    "# Partidas"
   ]
  },
  {
   "cell_type": "markdown",
   "metadata": {},
   "source": [
    "Os resultados das partidas irão gerar informações para a matriz de transição, sendo assim utilizamos o arquivo com todas as partidas de 2019 e selecionamos treino e teste mais adiante."
   ]
  },
  {
   "cell_type": "code",
   "execution_count": 12,
   "metadata": {},
   "outputs": [],
   "source": [
    "partidas = pd.read_csv(r'..\\..\\data\\2019\\2019_partidas.csv')"
   ]
  },
  {
   "cell_type": "markdown",
   "metadata": {},
   "source": [
    "Uma das hipóteses testadas nesse estudo, é o impacto da quantidade de gols do time na performance do jogador. Para facilitar a utilização desses dados, vamos normalizar as colunas de quantidade de gols dos time de casa e visitante."
   ]
  },
  {
   "cell_type": "code",
   "execution_count": 13,
   "metadata": {},
   "outputs": [],
   "source": [
    "partidas['home_score_norm'] = partidas['home_score'] / max(partidas['home_score'])\n",
    "partidas['away_score_norm'] = partidas['away_score'] / max(partidas['away_score'])"
   ]
  },
  {
   "cell_type": "code",
   "execution_count": 14,
   "metadata": {},
   "outputs": [
    {
     "data": {
      "text/html": [
       "<div>\n",
       "<style scoped>\n",
       "    .dataframe tbody tr th:only-of-type {\n",
       "        vertical-align: middle;\n",
       "    }\n",
       "\n",
       "    .dataframe tbody tr th {\n",
       "        vertical-align: top;\n",
       "    }\n",
       "\n",
       "    .dataframe thead th {\n",
       "        text-align: right;\n",
       "    }\n",
       "</style>\n",
       "<table border=\"1\" class=\"dataframe\">\n",
       "  <thead>\n",
       "    <tr style=\"text-align: right;\">\n",
       "      <th></th>\n",
       "      <th>date</th>\n",
       "      <th>home_team</th>\n",
       "      <th>away_team</th>\n",
       "      <th>home_score</th>\n",
       "      <th>away_score</th>\n",
       "      <th>round</th>\n",
       "      <th>home_score_norm</th>\n",
       "      <th>away_score_norm</th>\n",
       "    </tr>\n",
       "  </thead>\n",
       "  <tbody>\n",
       "    <tr>\n",
       "      <th>0</th>\n",
       "      <td>2019-04-28</td>\n",
       "      <td>284</td>\n",
       "      <td>277</td>\n",
       "      <td>1</td>\n",
       "      <td>2</td>\n",
       "      <td>1</td>\n",
       "      <td>0.166667</td>\n",
       "      <td>0.4</td>\n",
       "    </tr>\n",
       "    <tr>\n",
       "      <th>1</th>\n",
       "      <td>2019-04-27</td>\n",
       "      <td>282</td>\n",
       "      <td>314</td>\n",
       "      <td>2</td>\n",
       "      <td>1</td>\n",
       "      <td>1</td>\n",
       "      <td>0.333333</td>\n",
       "      <td>0.2</td>\n",
       "    </tr>\n",
       "    <tr>\n",
       "      <th>2</th>\n",
       "      <td>2019-04-28</td>\n",
       "      <td>354</td>\n",
       "      <td>341</td>\n",
       "      <td>4</td>\n",
       "      <td>0</td>\n",
       "      <td>1</td>\n",
       "      <td>0.666667</td>\n",
       "      <td>0.0</td>\n",
       "    </tr>\n",
       "    <tr>\n",
       "      <th>3</th>\n",
       "      <td>2019-04-28</td>\n",
       "      <td>275</td>\n",
       "      <td>356</td>\n",
       "      <td>4</td>\n",
       "      <td>0</td>\n",
       "      <td>1</td>\n",
       "      <td>0.666667</td>\n",
       "      <td>0.0</td>\n",
       "    </tr>\n",
       "    <tr>\n",
       "      <th>4</th>\n",
       "      <td>2019-04-27</td>\n",
       "      <td>276</td>\n",
       "      <td>263</td>\n",
       "      <td>2</td>\n",
       "      <td>0</td>\n",
       "      <td>1</td>\n",
       "      <td>0.333333</td>\n",
       "      <td>0.0</td>\n",
       "    </tr>\n",
       "  </tbody>\n",
       "</table>\n",
       "</div>"
      ],
      "text/plain": [
       "         date  home_team  away_team  home_score  away_score  round  \\\n",
       "0  2019-04-28        284        277           1           2      1   \n",
       "1  2019-04-27        282        314           2           1      1   \n",
       "2  2019-04-28        354        341           4           0      1   \n",
       "3  2019-04-28        275        356           4           0      1   \n",
       "4  2019-04-27        276        263           2           0      1   \n",
       "\n",
       "   home_score_norm  away_score_norm  \n",
       "0         0.166667              0.4  \n",
       "1         0.333333              0.2  \n",
       "2         0.666667              0.0  \n",
       "3         0.666667              0.0  \n",
       "4         0.333333              0.0  "
      ]
     },
     "execution_count": 14,
     "metadata": {},
     "output_type": "execute_result"
    }
   ],
   "source": [
    "partidas.head()"
   ]
  },
  {
   "cell_type": "code",
   "execution_count": 15,
   "metadata": {},
   "outputs": [
    {
     "data": {
      "text/plain": [
       "(379, 8)"
      ]
     },
     "execution_count": 15,
     "metadata": {},
     "output_type": "execute_result"
    }
   ],
   "source": [
    "partidas.shape"
   ]
  },
  {
   "cell_type": "markdown",
   "metadata": {},
   "source": [
    "### Dados das rodadas"
   ]
  },
  {
   "cell_type": "markdown",
   "metadata": {},
   "source": [
    "Agora, vamos importar os dados de performance de todos os jogadores em todas as rodadas de 2019, deixando uma coluna de identificação da rodada para podermos iterar nela."
   ]
  },
  {
   "cell_type": "code",
   "execution_count": 16,
   "metadata": {},
   "outputs": [],
   "source": [
    "df_partidas = pd.DataFrame()\n",
    "for rodada in range(1,39):\n",
    "    df_rodada = pd.read_csv(r'..\\..\\data\\2019\\rodada-{}.csv'.format(rodada))\n",
    "    df_rodada['round'] = rodada\n",
    "    df_partidas =df_partidas.append(df_rodada,sort=False)"
   ]
  },
  {
   "cell_type": "code",
   "execution_count": 17,
   "metadata": {},
   "outputs": [
    {
     "data": {
      "text/plain": [
       "(30581, 34)"
      ]
     },
     "execution_count": 17,
     "metadata": {},
     "output_type": "execute_result"
    }
   ],
   "source": [
    "df_partidas.shape"
   ]
  },
  {
   "cell_type": "markdown",
   "metadata": {},
   "source": [
    "Para o contexto desse estudo não vamos analisar a performance de técnicos."
   ]
  },
  {
   "cell_type": "code",
   "execution_count": 18,
   "metadata": {},
   "outputs": [],
   "source": [
    "df_partidas = df_partidas[df_partidas['atletas.posicao_id'] != 'tec']"
   ]
  },
  {
   "cell_type": "markdown",
   "metadata": {},
   "source": [
    "Para colocar cada jogador em uma posição específica na matriz, vamos trazer a informação de ranking que criamos para o dataframe de partidas."
   ]
  },
  {
   "cell_type": "code",
   "execution_count": 19,
   "metadata": {},
   "outputs": [],
   "source": [
    "df_partidas = df_partidas.set_index('atletas.atleta_id').join(atletas.set_index('player_id'))"
   ]
  },
  {
   "cell_type": "code",
   "execution_count": 20,
   "metadata": {},
   "outputs": [
    {
     "data": {
      "text/html": [
       "<div>\n",
       "<style scoped>\n",
       "    .dataframe tbody tr th:only-of-type {\n",
       "        vertical-align: middle;\n",
       "    }\n",
       "\n",
       "    .dataframe tbody tr th {\n",
       "        vertical-align: top;\n",
       "    }\n",
       "\n",
       "    .dataframe thead th {\n",
       "        text-align: right;\n",
       "    }\n",
       "</style>\n",
       "<table border=\"1\" class=\"dataframe\">\n",
       "  <thead>\n",
       "    <tr style=\"text-align: right;\">\n",
       "      <th></th>\n",
       "      <th>Unnamed: 0</th>\n",
       "      <th>atletas.nome</th>\n",
       "      <th>atletas.slug</th>\n",
       "      <th>atletas.apelido</th>\n",
       "      <th>atletas.foto</th>\n",
       "      <th>atletas.rodada_id</th>\n",
       "      <th>atletas.clube_id</th>\n",
       "      <th>atletas.posicao_id</th>\n",
       "      <th>atletas.status_id</th>\n",
       "      <th>atletas.pontos_num</th>\n",
       "      <th>...</th>\n",
       "      <th>A</th>\n",
       "      <th>CA</th>\n",
       "      <th>I</th>\n",
       "      <th>CV</th>\n",
       "      <th>PP</th>\n",
       "      <th>GC</th>\n",
       "      <th>DP</th>\n",
       "      <th>round</th>\n",
       "      <th>Rank</th>\n",
       "      <th>player_position</th>\n",
       "    </tr>\n",
       "  </thead>\n",
       "  <tbody>\n",
       "    <tr>\n",
       "      <th>37604</th>\n",
       "      <td>116</td>\n",
       "      <td>Paulo André Cren Benini</td>\n",
       "      <td>paulo-andre</td>\n",
       "      <td>Paulo André</td>\n",
       "      <td>https://s.glbimg.com/es/sde/f/2019/03/30/d13b3...</td>\n",
       "      <td>1</td>\n",
       "      <td>293</td>\n",
       "      <td>zag</td>\n",
       "      <td>Nulo</td>\n",
       "      <td>0.0</td>\n",
       "      <td>...</td>\n",
       "      <td>NaN</td>\n",
       "      <td>NaN</td>\n",
       "      <td>NaN</td>\n",
       "      <td>NaN</td>\n",
       "      <td>NaN</td>\n",
       "      <td>NaN</td>\n",
       "      <td>NaN</td>\n",
       "      <td>1</td>\n",
       "      <td>0.0</td>\n",
       "      <td>zag</td>\n",
       "    </tr>\n",
       "    <tr>\n",
       "      <th>37604</th>\n",
       "      <td>336</td>\n",
       "      <td>Paulo André Cren Benini</td>\n",
       "      <td>paulo-andre</td>\n",
       "      <td>Paulo André</td>\n",
       "      <td>https://s.glbimg.com/es/sde/f/2019/03/30/d13b3...</td>\n",
       "      <td>2</td>\n",
       "      <td>293</td>\n",
       "      <td>zag</td>\n",
       "      <td>Provável</td>\n",
       "      <td>0.0</td>\n",
       "      <td>...</td>\n",
       "      <td>NaN</td>\n",
       "      <td>NaN</td>\n",
       "      <td>NaN</td>\n",
       "      <td>NaN</td>\n",
       "      <td>NaN</td>\n",
       "      <td>NaN</td>\n",
       "      <td>NaN</td>\n",
       "      <td>2</td>\n",
       "      <td>0.0</td>\n",
       "      <td>zag</td>\n",
       "    </tr>\n",
       "    <tr>\n",
       "      <th>37604</th>\n",
       "      <td>83</td>\n",
       "      <td>Paulo André Cren Benini</td>\n",
       "      <td>paulo-andre</td>\n",
       "      <td>Paulo André</td>\n",
       "      <td>https://s.glbimg.com/es/sde/f/2019/03/30/d13b3...</td>\n",
       "      <td>3</td>\n",
       "      <td>293</td>\n",
       "      <td>zag</td>\n",
       "      <td>Dúvida</td>\n",
       "      <td>-3.3</td>\n",
       "      <td>...</td>\n",
       "      <td>NaN</td>\n",
       "      <td>1.0</td>\n",
       "      <td>NaN</td>\n",
       "      <td>NaN</td>\n",
       "      <td>NaN</td>\n",
       "      <td>NaN</td>\n",
       "      <td>NaN</td>\n",
       "      <td>3</td>\n",
       "      <td>0.0</td>\n",
       "      <td>zag</td>\n",
       "    </tr>\n",
       "    <tr>\n",
       "      <th>37604</th>\n",
       "      <td>305</td>\n",
       "      <td>Paulo André Cren Benini</td>\n",
       "      <td>paulo-andre</td>\n",
       "      <td>Paulo André</td>\n",
       "      <td>https://s.glbimg.com/es/sde/f/2019/03/30/d13b3...</td>\n",
       "      <td>4</td>\n",
       "      <td>293</td>\n",
       "      <td>zag</td>\n",
       "      <td>Provável</td>\n",
       "      <td>4.5</td>\n",
       "      <td>...</td>\n",
       "      <td>NaN</td>\n",
       "      <td>1.0</td>\n",
       "      <td>NaN</td>\n",
       "      <td>NaN</td>\n",
       "      <td>NaN</td>\n",
       "      <td>NaN</td>\n",
       "      <td>NaN</td>\n",
       "      <td>4</td>\n",
       "      <td>0.0</td>\n",
       "      <td>zag</td>\n",
       "    </tr>\n",
       "    <tr>\n",
       "      <th>37604</th>\n",
       "      <td>83</td>\n",
       "      <td>Paulo André Cren Benini</td>\n",
       "      <td>paulo-andre</td>\n",
       "      <td>Paulo André</td>\n",
       "      <td>https://s.glbimg.com/es/sde/f/2019/03/30/d13b3...</td>\n",
       "      <td>5</td>\n",
       "      <td>293</td>\n",
       "      <td>zag</td>\n",
       "      <td>Nulo</td>\n",
       "      <td>0.0</td>\n",
       "      <td>...</td>\n",
       "      <td>NaN</td>\n",
       "      <td>1.0</td>\n",
       "      <td>NaN</td>\n",
       "      <td>NaN</td>\n",
       "      <td>NaN</td>\n",
       "      <td>NaN</td>\n",
       "      <td>NaN</td>\n",
       "      <td>5</td>\n",
       "      <td>0.0</td>\n",
       "      <td>zag</td>\n",
       "    </tr>\n",
       "  </tbody>\n",
       "</table>\n",
       "<p>5 rows × 35 columns</p>\n",
       "</div>"
      ],
      "text/plain": [
       "       Unnamed: 0             atletas.nome atletas.slug atletas.apelido  \\\n",
       "37604         116  Paulo André Cren Benini  paulo-andre     Paulo André   \n",
       "37604         336  Paulo André Cren Benini  paulo-andre     Paulo André   \n",
       "37604          83  Paulo André Cren Benini  paulo-andre     Paulo André   \n",
       "37604         305  Paulo André Cren Benini  paulo-andre     Paulo André   \n",
       "37604          83  Paulo André Cren Benini  paulo-andre     Paulo André   \n",
       "\n",
       "                                            atletas.foto  atletas.rodada_id  \\\n",
       "37604  https://s.glbimg.com/es/sde/f/2019/03/30/d13b3...                  1   \n",
       "37604  https://s.glbimg.com/es/sde/f/2019/03/30/d13b3...                  2   \n",
       "37604  https://s.glbimg.com/es/sde/f/2019/03/30/d13b3...                  3   \n",
       "37604  https://s.glbimg.com/es/sde/f/2019/03/30/d13b3...                  4   \n",
       "37604  https://s.glbimg.com/es/sde/f/2019/03/30/d13b3...                  5   \n",
       "\n",
       "       atletas.clube_id atletas.posicao_id atletas.status_id  \\\n",
       "37604               293                zag              Nulo   \n",
       "37604               293                zag          Provável   \n",
       "37604               293                zag            Dúvida   \n",
       "37604               293                zag          Provável   \n",
       "37604               293                zag              Nulo   \n",
       "\n",
       "       atletas.pontos_num  ...   A   CA   I  CV  PP  GC  DP  round  Rank  \\\n",
       "37604                 0.0  ... NaN  NaN NaN NaN NaN NaN NaN      1   0.0   \n",
       "37604                 0.0  ... NaN  NaN NaN NaN NaN NaN NaN      2   0.0   \n",
       "37604                -3.3  ... NaN  1.0 NaN NaN NaN NaN NaN      3   0.0   \n",
       "37604                 4.5  ... NaN  1.0 NaN NaN NaN NaN NaN      4   0.0   \n",
       "37604                 0.0  ... NaN  1.0 NaN NaN NaN NaN NaN      5   0.0   \n",
       "\n",
       "       player_position  \n",
       "37604              zag  \n",
       "37604              zag  \n",
       "37604              zag  \n",
       "37604              zag  \n",
       "37604              zag  \n",
       "\n",
       "[5 rows x 35 columns]"
      ]
     },
     "execution_count": 20,
     "metadata": {},
     "output_type": "execute_result"
    }
   ],
   "source": [
    "df_partidas.head()"
   ]
  },
  {
   "cell_type": "code",
   "execution_count": 21,
   "metadata": {},
   "outputs": [
    {
     "data": {
      "text/plain": [
       "37604       0.0\n",
       "37604       0.0\n",
       "37604       0.0\n",
       "37604       0.0\n",
       "37604       0.0\n",
       "          ...  \n",
       "106831    181.0\n",
       "106831    181.0\n",
       "106832      NaN\n",
       "106832      NaN\n",
       "106834      NaN\n",
       "Name: Rank, Length: 29825, dtype: float64"
      ]
     },
     "execution_count": 21,
     "metadata": {},
     "output_type": "execute_result"
    }
   ],
   "source": [
    "df_partidas['Rank']"
   ]
  },
  {
   "cell_type": "markdown",
   "metadata": {},
   "source": [
    "### Removendo jogadores não cadastrados"
   ]
  },
  {
   "cell_type": "markdown",
   "metadata": {},
   "source": [
    "Como a base para construção da nossa matriz é a tabela de atletas que criamos, caso algum jogador apareça na rodada e não esteja na tabela, desconsideramos esse jogador."
   ]
  },
  {
   "cell_type": "code",
   "execution_count": 22,
   "metadata": {},
   "outputs": [],
   "source": [
    "df_partidas.drop(df_partidas[df_partidas['Rank'].isnull()].index, inplace=True)"
   ]
  },
  {
   "cell_type": "code",
   "execution_count": 23,
   "metadata": {},
   "outputs": [],
   "source": [
    "df_partidas['Rank'] = df_partidas['Rank'].astype(int)"
   ]
  },
  {
   "cell_type": "markdown",
   "metadata": {},
   "source": [
    "# Matriz M de estados"
   ]
  },
  {
   "cell_type": "markdown",
   "metadata": {},
   "source": [
    "Para cada posição(atacante, zagueiro, etc.), iniciamos uma matriz de zeros com tamanho *d x d*, sendo *d=quantidade de jogadores únicos*.\n",
    "\n",
    "### Exemplo com atacantes"
   ]
  },
  {
   "cell_type": "markdown",
   "metadata": {},
   "source": [
    "Para o restante do estudo vamos analisar os resultados para os atacantes."
   ]
  },
  {
   "cell_type": "code",
   "execution_count": 24,
   "metadata": {},
   "outputs": [],
   "source": [
    "import numpy as np"
   ]
  },
  {
   "cell_type": "code",
   "execution_count": 25,
   "metadata": {},
   "outputs": [],
   "source": [
    "posicao = 'ata'"
   ]
  },
  {
   "cell_type": "code",
   "execution_count": 26,
   "metadata": {},
   "outputs": [],
   "source": [
    "qtd_atletas = len(atletas[atletas.player_position == posicao])\n",
    "M = np.zeros((qtd_atletas,qtd_atletas))"
   ]
  },
  {
   "cell_type": "code",
   "execution_count": 27,
   "metadata": {},
   "outputs": [
    {
     "data": {
      "text/plain": [
       "array([[0., 0., 0., ..., 0., 0., 0.],\n",
       "       [0., 0., 0., ..., 0., 0., 0.],\n",
       "       [0., 0., 0., ..., 0., 0., 0.],\n",
       "       ...,\n",
       "       [0., 0., 0., ..., 0., 0., 0.],\n",
       "       [0., 0., 0., ..., 0., 0., 0.],\n",
       "       [0., 0., 0., ..., 0., 0., 0.]])"
      ]
     },
     "execution_count": 27,
     "metadata": {},
     "output_type": "execute_result"
    }
   ],
   "source": [
    "M"
   ]
  },
  {
   "cell_type": "code",
   "execution_count": 28,
   "metadata": {
    "scrolled": true
   },
   "outputs": [
    {
     "data": {
      "text/plain": [
       "(182, 182)"
      ]
     },
     "execution_count": 28,
     "metadata": {},
     "output_type": "execute_result"
    }
   ],
   "source": [
    "M.shape"
   ]
  },
  {
   "cell_type": "markdown",
   "metadata": {},
   "source": [
    "# Atualizando a matriz"
   ]
  },
  {
   "cell_type": "markdown",
   "metadata": {},
   "source": [
    "1. Selecionar partida. \n",
    "2. Selecionar os jogadores que atuaram pelo time da casa.\n",
    "3. Selecionar os jogadores que atuaram pelo time visitante.\n",
    "4. Avaliar cada jogador do time da casa contra cada jogador do time visitante.\n",
    "5. Atualizar a matriz de transições de acordo com a regra*:\n",
    "\n",
    "Para um jogo específico, ***j1*** é o índice do jogador avaliado do time da casa e ***j2*** o índice do jogador avaliado do time visitante."
   ]
  },
  {
   "cell_type": "markdown",
   "metadata": {},
   "source": [
    "$$\\hat{M}_{j1j1} \\ \\leftarrow \\ \\hat{M}_{j1j1} \\ +\\ gols\\_time_{j1} \\ +\\ \\frac{pontos_{j1}}{pontos_{j1} +pontos_{j2}}$$\n",
    "\n",
    "$$\\hat{M}_{j2j2} \\ \\leftarrow \\ \\hat{M}_{j2j2} \\ +\\ gols\\_time_{j2} \\ +\\ \\frac{pontos_{j2}}{pontos_{j1} +pontos_{j2}}$$\n",
    "\n",
    "$$\\hat{M}_{j1j2} \\ \\leftarrow \\ \\hat{M}_{j1j2} \\ +\\ gols\\_time_{j2} \\ +\\ \\frac{pontos_{j2}}{pontos_{j1} +pontos_{j2}}$$\n",
    "\n",
    "$$\\hat{M}_{j2j1} \\ \\leftarrow \\ \\hat{M}_{j2j1} \\ +\\ gols\\_time_{j1} \\ +\\ \\frac{pontos_{j1}}{pontos_{j1} +pontos_{j2}}$$\n",
    "\n",
    "_*Regras para atacantes_\n"
   ]
  },
  {
   "cell_type": "code",
   "execution_count": 29,
   "metadata": {},
   "outputs": [],
   "source": [
    "df_partidas_posicao = df_partidas[df_partidas['atletas.posicao_id'] == posicao].copy()"
   ]
  },
  {
   "cell_type": "code",
   "execution_count": 30,
   "metadata": {},
   "outputs": [],
   "source": [
    "for partida in range(len(partidas)-1): #Vamos deixar a última partida de fora para testes\n",
    "    df_rodada = df_partidas_posicao[df_partidas_posicao['round'] == partidas['round'][partida]]\n",
    "    jogadores_casa = df_rodada[df_rodada['atletas.clube_id'] == partidas['home_team'][partida]]\n",
    "    jogadores_visitantes = df_rodada[df_rodada['atletas.clube_id'] == partidas['away_team'][partida]]\n",
    "    \n",
    "    for j_casa in range(len(jogadores_casa)):\n",
    "        for j_visitante in range(len(jogadores_visitantes)):\n",
    "            score_casa = 0\n",
    "            score_visitante = 0\n",
    "            \n",
    "            pontos_j_casa = jogadores_casa['atletas.pontos_num'].iloc[j_casa]\n",
    "            pontos_j_visitante = jogadores_visitantes['atletas.pontos_num'].iloc[j_visitante]\n",
    "            \n",
    "            soma =  pontos_j_casa + pontos_j_visitante \n",
    "            if soma != 0:\n",
    "                score_casa = pontos_j_casa / soma\n",
    "                score_visitante = pontos_j_visitante / soma\n",
    "            \n",
    "            j1 = jogadores_casa['Rank'].iloc[j_casa]\n",
    "            j2 = jogadores_visitantes['Rank'].iloc[j_visitante]\n",
    "                \n",
    "            M[j1,j1] = M[j1,j1] + partidas['home_score_norm'][partida] + score_casa\n",
    "            M[j1,j2] = M[j1,j2] + partidas['away_score_norm'][partida] + score_visitante\n",
    "            M[j2,j1] = M[j2,j1] + partidas['home_score_norm'][partida] + score_casa\n",
    "            M[j2,j2] = M[j2,j2] + partidas['away_score_norm'][partida] + score_visitante"
   ]
  },
  {
   "cell_type": "code",
   "execution_count": 31,
   "metadata": {},
   "outputs": [
    {
     "data": {
      "text/plain": [
       "array([[ 1.89125212e+02,  1.33333333e+00,  3.66666667e-01, ...,\n",
       "         4.13333333e-01,  0.00000000e+00,  0.00000000e+00],\n",
       "       [-1.66666667e-01,  1.39137439e+02,  0.00000000e+00, ...,\n",
       "         3.33333333e-01,  0.00000000e+00,  0.00000000e+00],\n",
       "       [ 2.73333333e+00,  1.16666667e+00,  1.49798548e+02, ...,\n",
       "         3.33333333e-01,  3.33333333e-01,  3.33333333e-01],\n",
       "       ...,\n",
       "       [ 1.48666667e+00,  1.20000000e+00,  0.00000000e+00, ...,\n",
       "         4.45256140e+01,  0.00000000e+00,  0.00000000e+00],\n",
       "       [ 0.00000000e+00,  0.00000000e+00,  1.20000000e+00, ...,\n",
       "         0.00000000e+00,  3.33333333e+00,  0.00000000e+00],\n",
       "       [ 0.00000000e+00,  0.00000000e+00,  1.20000000e+00, ...,\n",
       "         0.00000000e+00,  0.00000000e+00,  3.33333333e+00]])"
      ]
     },
     "execution_count": 31,
     "metadata": {},
     "output_type": "execute_result"
    }
   ],
   "source": [
    "M"
   ]
  },
  {
   "cell_type": "markdown",
   "metadata": {},
   "source": [
    "Depois de processar todas as partidas de todos os jogadores, vamos normalizar ***M*** para que todas as colunas somem 1. "
   ]
  },
  {
   "cell_type": "code",
   "execution_count": 32,
   "metadata": {},
   "outputs": [],
   "source": [
    "M = M / np.sum(M,axis=1)"
   ]
  },
  {
   "cell_type": "markdown",
   "metadata": {},
   "source": [
    "# Distribuição estacionária"
   ]
  },
  {
   "cell_type": "markdown",
   "metadata": {},
   "source": [
    "Agora que temos a nossa matriz de transição pronta, podemos calcular a distribuição estacionária."
   ]
  },
  {
   "cell_type": "code",
   "execution_count": 33,
   "metadata": {},
   "outputs": [],
   "source": [
    "evals, evecs = np.linalg.eig(M.T)\n",
    "evec1 = evecs[:,np.isclose(evals, 1)]\n",
    "\n",
    "evec1 = evec1[:,0]\n",
    "stationary = evec1 / evec1.sum()\n",
    "stationary = stationary.real"
   ]
  },
  {
   "cell_type": "markdown",
   "metadata": {},
   "source": [
    "Por final geramos uma array de tamanho ***d***, lembrando que uma posição ***i*** aqui está relacionada a posição ***i*** no ranking de ids que criamos no começo do estudo.\n",
    "\n",
    "Podemos notar que as probabilidades são muito baixas, sendo muito difícil selecionar um jogador apenas pela probabilidades aqui geradas."
   ]
  },
  {
   "cell_type": "code",
   "execution_count": 34,
   "metadata": {},
   "outputs": [
    {
     "data": {
      "text/plain": [
       "array([ 0.00709695,  0.00615471,  0.00482594,  0.00694504,  0.01169433,\n",
       "        0.00470028,  0.00340639,  0.00602075,  0.01388707,  0.00426904,\n",
       "        0.01132313,  0.01201425,  0.0074333 ,  0.0070755 ,  0.00721605,\n",
       "        0.01254784,  0.00884598,  0.0034889 ,  0.00459704,  0.00811447,\n",
       "        0.00389371,  0.01438393,  0.00504572,  0.00471931,  0.00820365,\n",
       "        0.01650182,  0.00597158,  0.00851101,  0.01258323,  0.00442217,\n",
       "        0.00710118,  0.00683491,  0.00147972,  0.0062735 ,  0.01321127,\n",
       "        0.00165815,  0.00248103,  0.00859438,  0.00218015,  0.00373836,\n",
       "        0.00805596,  0.00738451,  0.00573467,  0.00740401,  0.00729592,\n",
       "        0.00492663,  0.00407701,  0.00298243,  0.00879831,  0.00376915,\n",
       "        0.00971908,  0.00167764, -0.00045752,  0.00113731,  0.00259699,\n",
       "        0.01257637,  0.01269735,  0.00743134,  0.00319426,  0.01218161,\n",
       "        0.0029924 ,  0.00325711,  0.00372088,  0.00265928,  0.00132734,\n",
       "        0.00088727,  0.01810294,  0.00538199,  0.00673407,  0.01437957,\n",
       "        0.00405051,  0.01112214,  0.00403702,  0.00512249,  0.00393759,\n",
       "        0.00335308,  0.00569006,  0.00358389,  0.01334014,  0.00776384,\n",
       "        0.00467949,  0.00183235,  0.00418572,  0.00650434,  0.00443584,\n",
       "        0.00301788,  0.0064478 ,  0.00122525,  0.01675702,  0.00378148,\n",
       "        0.00488265,  0.01074932,  0.00531649,  0.00388133,  0.00429433,\n",
       "        0.00855186,  0.01188618,  0.02073499,  0.00243295,  0.00672155,\n",
       "        0.00376402,  0.00277235,  0.00165963,  0.00668665,  0.00250041,\n",
       "        0.0038504 ,  0.00592579,  0.00376299,  0.00259107,  0.00208737,\n",
       "        0.00089896,  0.00668376,  0.00145035,  0.0060252 ,  0.00538587,\n",
       "        0.00959674,  0.00582033,  0.00176743,  0.00287855,  0.00327843,\n",
       "        0.00144609,  0.00495491,  0.00434568,  0.01231942,  0.00139781,\n",
       "        0.00366682,  0.00243818,  0.00628904,  0.00355093,  0.00694195,\n",
       "        0.00528205,  0.0029838 ,  0.00477606,  0.00304162,  0.00979501,\n",
       "        0.00080995,  0.01014144,  0.00483413,  0.0064588 ,  0.00472622,\n",
       "        0.00152552,  0.00313748,  0.00416676,  0.00329779,  0.00274631,\n",
       "        0.0075244 ,  0.00123672,  0.00361224,  0.00366485,  0.00558777,\n",
       "        0.00231455,  0.0026847 ,  0.00434569,  0.00263306,  0.00487249,\n",
       "        0.00299977,  0.00273558,  0.00663123,  0.00295881,  0.00879456,\n",
       "        0.00703377,  0.00292686,  0.00844336,  0.00220506,  0.00198465,\n",
       "        0.00949338,  0.002309  ,  0.00357865,  0.00440057,  0.00080723,\n",
       "        0.00156054,  0.00153621,  0.00345359,  0.00587878,  0.00354855,\n",
       "        0.0020333 ,  0.00129726,  0.00172759,  0.00480724,  0.00316807,\n",
       "        0.00217934,  0.00217934])"
      ]
     },
     "execution_count": 34,
     "metadata": {},
     "output_type": "execute_result"
    }
   ],
   "source": [
    "stationary"
   ]
  },
  {
   "cell_type": "markdown",
   "metadata": {},
   "source": [
    "Podemos verificar por exemplo quem teve probabilidade maior que 1.5%.\n",
    "\n",
    "O fato dos jogadores como Gabriel e Bruno Henrique aparecem entre os 5 maiores, pode ser um indicador que a regra criada para uma comparação de pontos + quantidade de gols marcada pelo time, pode estar dando maior peso para esses jogadores, o que é uma coisa boa. :)"
   ]
  },
  {
   "cell_type": "code",
   "execution_count": 35,
   "metadata": {},
   "outputs": [
    {
     "data": {
      "text/html": [
       "<div>\n",
       "<style scoped>\n",
       "    .dataframe tbody tr th:only-of-type {\n",
       "        vertical-align: middle;\n",
       "    }\n",
       "\n",
       "    .dataframe tbody tr th {\n",
       "        vertical-align: top;\n",
       "    }\n",
       "\n",
       "    .dataframe thead th {\n",
       "        text-align: right;\n",
       "    }\n",
       "</style>\n",
       "<table border=\"1\" class=\"dataframe\">\n",
       "  <thead>\n",
       "    <tr style=\"text-align: right;\">\n",
       "      <th></th>\n",
       "      <th>player_slug</th>\n",
       "      <th>player_id</th>\n",
       "      <th>player_nickname</th>\n",
       "      <th>player_team</th>\n",
       "      <th>player_position</th>\n",
       "      <th>price_cartoletas</th>\n",
       "      <th>score_mean</th>\n",
       "      <th>score_no_cleansheets_mean</th>\n",
       "      <th>diff_home_away_s</th>\n",
       "      <th>n_games</th>\n",
       "      <th>...</th>\n",
       "      <th>I_mean</th>\n",
       "      <th>FS_mean</th>\n",
       "      <th>FF_mean</th>\n",
       "      <th>G_mean</th>\n",
       "      <th>DD_mean</th>\n",
       "      <th>DP_mean</th>\n",
       "      <th>status</th>\n",
       "      <th>price_diff</th>\n",
       "      <th>last_points</th>\n",
       "      <th>Rank</th>\n",
       "    </tr>\n",
       "  </thead>\n",
       "  <tbody>\n",
       "    <tr>\n",
       "      <th>142</th>\n",
       "      <td>dudu</td>\n",
       "      <td>68920</td>\n",
       "      <td>Dudu</td>\n",
       "      <td>275</td>\n",
       "      <td>ata</td>\n",
       "      <td>18.90</td>\n",
       "      <td>5.780645</td>\n",
       "      <td>5.780645</td>\n",
       "      <td>0.809397</td>\n",
       "      <td>31</td>\n",
       "      <td>...</td>\n",
       "      <td>0.290323</td>\n",
       "      <td>3.677419</td>\n",
       "      <td>0.903226</td>\n",
       "      <td>0.290323</td>\n",
       "      <td>0.0</td>\n",
       "      <td>0.0</td>\n",
       "      <td>Provável</td>\n",
       "      <td>-2.06</td>\n",
       "      <td>7.3</td>\n",
       "      <td>25</td>\n",
       "    </tr>\n",
       "    <tr>\n",
       "      <th>331</th>\n",
       "      <td>gabriel</td>\n",
       "      <td>83257</td>\n",
       "      <td>Gabriel</td>\n",
       "      <td>262</td>\n",
       "      <td>ata</td>\n",
       "      <td>19.57</td>\n",
       "      <td>9.617857</td>\n",
       "      <td>9.617857</td>\n",
       "      <td>1.010896</td>\n",
       "      <td>28</td>\n",
       "      <td>...</td>\n",
       "      <td>0.607143</td>\n",
       "      <td>1.071429</td>\n",
       "      <td>1.214286</td>\n",
       "      <td>0.892857</td>\n",
       "      <td>0.0</td>\n",
       "      <td>0.0</td>\n",
       "      <td>Provável</td>\n",
       "      <td>-2.37</td>\n",
       "      <td>-0.8</td>\n",
       "      <td>66</td>\n",
       "    </tr>\n",
       "    <tr>\n",
       "      <th>423</th>\n",
       "      <td>bruno-henrique</td>\n",
       "      <td>90285</td>\n",
       "      <td>Bruno Henrique</td>\n",
       "      <td>262</td>\n",
       "      <td>ata</td>\n",
       "      <td>19.74</td>\n",
       "      <td>7.653125</td>\n",
       "      <td>7.653125</td>\n",
       "      <td>2.569387</td>\n",
       "      <td>32</td>\n",
       "      <td>...</td>\n",
       "      <td>0.281250</td>\n",
       "      <td>2.187500</td>\n",
       "      <td>1.125000</td>\n",
       "      <td>0.593750</td>\n",
       "      <td>0.0</td>\n",
       "      <td>0.0</td>\n",
       "      <td>Provável</td>\n",
       "      <td>-0.78</td>\n",
       "      <td>-0.3</td>\n",
       "      <td>88</td>\n",
       "    </tr>\n",
       "    <tr>\n",
       "      <th>447</th>\n",
       "      <td>rony</td>\n",
       "      <td>91607</td>\n",
       "      <td>Rony</td>\n",
       "      <td>293</td>\n",
       "      <td>ata</td>\n",
       "      <td>13.94</td>\n",
       "      <td>5.351724</td>\n",
       "      <td>5.351724</td>\n",
       "      <td>0.983257</td>\n",
       "      <td>29</td>\n",
       "      <td>...</td>\n",
       "      <td>0.448276</td>\n",
       "      <td>2.172414</td>\n",
       "      <td>1.310345</td>\n",
       "      <td>0.206897</td>\n",
       "      <td>0.0</td>\n",
       "      <td>0.0</td>\n",
       "      <td>Nulo</td>\n",
       "      <td>0.76</td>\n",
       "      <td>6.7</td>\n",
       "      <td>97</td>\n",
       "    </tr>\n",
       "  </tbody>\n",
       "</table>\n",
       "<p>4 rows × 27 columns</p>\n",
       "</div>"
      ],
      "text/plain": [
       "        player_slug  player_id player_nickname  player_team player_position  \\\n",
       "142            dudu      68920            Dudu          275             ata   \n",
       "331         gabriel      83257         Gabriel          262             ata   \n",
       "423  bruno-henrique      90285  Bruno Henrique          262             ata   \n",
       "447            rony      91607            Rony          293             ata   \n",
       "\n",
       "     price_cartoletas  score_mean  score_no_cleansheets_mean  \\\n",
       "142             18.90    5.780645                   5.780645   \n",
       "331             19.57    9.617857                   9.617857   \n",
       "423             19.74    7.653125                   7.653125   \n",
       "447             13.94    5.351724                   5.351724   \n",
       "\n",
       "     diff_home_away_s  n_games  ...    I_mean   FS_mean   FF_mean    G_mean  \\\n",
       "142          0.809397       31  ...  0.290323  3.677419  0.903226  0.290323   \n",
       "331          1.010896       28  ...  0.607143  1.071429  1.214286  0.892857   \n",
       "423          2.569387       32  ...  0.281250  2.187500  1.125000  0.593750   \n",
       "447          0.983257       29  ...  0.448276  2.172414  1.310345  0.206897   \n",
       "\n",
       "     DD_mean  DP_mean    status  price_diff  last_points  Rank  \n",
       "142      0.0      0.0  Provável       -2.06          7.3    25  \n",
       "331      0.0      0.0  Provável       -2.37         -0.8    66  \n",
       "423      0.0      0.0  Provável       -0.78         -0.3    88  \n",
       "447      0.0      0.0      Nulo        0.76          6.7    97  \n",
       "\n",
       "[4 rows x 27 columns]"
      ]
     },
     "execution_count": 35,
     "metadata": {},
     "output_type": "execute_result"
    }
   ],
   "source": [
    "medias[medias.player_position == posicao][list(stationary > 0.015)]"
   ]
  },
  {
   "cell_type": "markdown",
   "metadata": {},
   "source": [
    "## Calculando a distribuição para todas posições"
   ]
  },
  {
   "cell_type": "markdown",
   "metadata": {},
   "source": [
    "Para as posições de defesa, vamos substituir a pontuação referente aos gols marcado pelo time, por uma variável binária, referente a ter sofrido gol no jogo. Caso o time não tenha levado gol no jogo, damos pontuação de 1, se a defesa foi vazada o valor é 0.\n",
    "\n",
    "No meio-campo fazemos uma combinação das regras de defesa e ataque."
   ]
  },
  {
   "cell_type": "code",
   "execution_count": 36,
   "metadata": {},
   "outputs": [],
   "source": [
    "stationaries = {}\n",
    "\n",
    "for posicao in posicoes:\n",
    "    qtd_atletas = len(atletas[atletas.player_position == posicao])\n",
    "    M = np.zeros((qtd_atletas,qtd_atletas))\n",
    "\n",
    "    df_partidas_posicao = df_partidas[df_partidas['atletas.posicao_id'] == posicao].copy()\n",
    "\n",
    "    for partida in range(len(partidas)-1): #Vamos deixar a última partida de fora para testes\n",
    "        df_rodada = df_partidas_posicao[df_partidas_posicao['round'] == partidas['round'][partida]]\n",
    "        jogadores_casa = df_rodada[df_rodada['atletas.clube_id'] == partidas['home_team'][partida]]\n",
    "        jogadores_visitantes = df_rodada[df_rodada['atletas.clube_id'] == partidas['away_team'][partida]]\n",
    "\n",
    "        for j_casa in range(len(jogadores_casa)):\n",
    "            for j_visitante in range(len(jogadores_visitantes)):\n",
    "                score_casa = 0\n",
    "                score_visitante = 0\n",
    "\n",
    "                pontos_j_casa = jogadores_casa['atletas.pontos_num'].iloc[j_casa]\n",
    "                pontos_j_visitante = jogadores_visitantes['atletas.pontos_num'].iloc[j_visitante]\n",
    "\n",
    "                soma =  pontos_j_casa + pontos_j_visitante \n",
    "                if soma != 0:\n",
    "                    score_casa = pontos_j_casa / soma\n",
    "                    score_visitante = pontos_j_visitante / soma\n",
    "\n",
    "                def_n_vazada_casa = 0 if partidas['away_score_norm'][partida] > 0 else 1\n",
    "                def_n_vazada_visitante = 0 if partidas['home_score_norm'][partida] > 0 else 1\n",
    "                \n",
    "                if posicao == 'ata':\n",
    "                    pontos_casa = partidas['home_score_norm'][partida] + score_casa\n",
    "                    pontos_visitante = partidas['away_score_norm'][partida] + score_visitante\n",
    "                elif posicao == 'mei':\n",
    "                    pontos_casa = partidas['home_score_norm'][partida] + def_n_vazada_casa + score_casa\n",
    "                    pontos_visitante = partidas['away_score_norm'][partida] + def_n_vazada_visitante + score_visitante\n",
    "                else:\n",
    "                    pontos_casa = def_n_vazada_casa + score_casa\n",
    "                    pontos_visitante = def_n_vazada_visitante + score_visitante                  \n",
    "                    \n",
    "                j1 = jogadores_casa['Rank'].iloc[j_casa]\n",
    "                j2 = jogadores_visitantes['Rank'].iloc[j_visitante]               \n",
    "\n",
    "                M[j1,j1] = M[j1,j1] + pontos_casa\n",
    "                M[j1,j2] = M[j1,j2] + pontos_visitante\n",
    "                M[j2,j1] = M[j2,j1] + pontos_casa\n",
    "                M[j2,j2] = M[j2,j2] + pontos_visitante\n",
    "\n",
    "    M = M / np.sum(M,axis=1)\n",
    "\n",
    "    evals, evecs = np.linalg.eig(M.T)\n",
    "    evec1 = evecs[:,np.isclose(evals, 1)]\n",
    "\n",
    "    evec1 = evec1[:,0]\n",
    "    stationary = evec1 / evec1.sum()\n",
    "    stationary = stationary.real\n",
    "\n",
    "    stationaries[posicao] = stationary"
   ]
  },
  {
   "cell_type": "markdown",
   "metadata": {},
   "source": [
    "# Escalando para a rodada"
   ]
  },
  {
   "cell_type": "markdown",
   "metadata": {},
   "source": [
    "No cálculo da distribuição, deixamos a última rodada de 2019 de fora, agora podemos utilizá-la para testar o nosso modelo."
   ]
  },
  {
   "cell_type": "code",
   "execution_count": 37,
   "metadata": {},
   "outputs": [],
   "source": [
    "rodada = 38"
   ]
  },
  {
   "cell_type": "markdown",
   "metadata": {},
   "source": [
    "Primeiro vamos criar um DataFrame somente com as informações da rodada e colocar as probabilidades que encontramos referente a cada jogador."
   ]
  },
  {
   "cell_type": "code",
   "execution_count": 38,
   "metadata": {},
   "outputs": [],
   "source": [
    "df_rodada = df_partidas[df_partidas['round'] == rodada].copy()\n",
    "df_rodada['Rank'] = df_rodada['Rank'].astype(int)\n",
    "df_rodada['probs'] = 0"
   ]
  },
  {
   "cell_type": "code",
   "execution_count": 39,
   "metadata": {},
   "outputs": [],
   "source": [
    "for jogador in range(len(df_rodada)):\n",
    "    posicao = df_rodada.iloc[jogador]['player_position']\n",
    "    rank = df_rodada.iloc[jogador]['Rank']\n",
    "    if rank:\n",
    "        df_rodada.iloc[jogador,-1] = stationaries[posicao][rank]"
   ]
  },
  {
   "cell_type": "markdown",
   "metadata": {},
   "source": [
    "Vamos utilizar também do recurso de status e só trabalhar com jogadores em status ***Provável***."
   ]
  },
  {
   "cell_type": "code",
   "execution_count": 40,
   "metadata": {},
   "outputs": [],
   "source": [
    "df_rodada = df_rodada[df_rodada['atletas.status_id'] == 'Provável'].copy()"
   ]
  },
  {
   "cell_type": "code",
   "execution_count": 41,
   "metadata": {},
   "outputs": [
    {
     "data": {
      "text/html": [
       "<div>\n",
       "<style scoped>\n",
       "    .dataframe tbody tr th:only-of-type {\n",
       "        vertical-align: middle;\n",
       "    }\n",
       "\n",
       "    .dataframe tbody tr th {\n",
       "        vertical-align: top;\n",
       "    }\n",
       "\n",
       "    .dataframe thead th {\n",
       "        text-align: right;\n",
       "    }\n",
       "</style>\n",
       "<table border=\"1\" class=\"dataframe\">\n",
       "  <thead>\n",
       "    <tr style=\"text-align: right;\">\n",
       "      <th></th>\n",
       "      <th>Unnamed: 0</th>\n",
       "      <th>atletas.nome</th>\n",
       "      <th>atletas.slug</th>\n",
       "      <th>atletas.apelido</th>\n",
       "      <th>atletas.foto</th>\n",
       "      <th>atletas.rodada_id</th>\n",
       "      <th>atletas.clube_id</th>\n",
       "      <th>atletas.posicao_id</th>\n",
       "      <th>atletas.status_id</th>\n",
       "      <th>atletas.pontos_num</th>\n",
       "      <th>...</th>\n",
       "      <th>CA</th>\n",
       "      <th>I</th>\n",
       "      <th>CV</th>\n",
       "      <th>PP</th>\n",
       "      <th>GC</th>\n",
       "      <th>DP</th>\n",
       "      <th>round</th>\n",
       "      <th>Rank</th>\n",
       "      <th>player_position</th>\n",
       "      <th>probs</th>\n",
       "    </tr>\n",
       "  </thead>\n",
       "  <tbody>\n",
       "    <tr>\n",
       "      <th>37655</th>\n",
       "      <td>4</td>\n",
       "      <td>Rafael Martiniano de Miranda Moura</td>\n",
       "      <td>rafael-moura</td>\n",
       "      <td>Rafael Moura</td>\n",
       "      <td>https://s.glbimg.com/es/sde/f/2019/07/16/854eb...</td>\n",
       "      <td>38</td>\n",
       "      <td>290</td>\n",
       "      <td>ata</td>\n",
       "      <td>Provável</td>\n",
       "      <td>22.2</td>\n",
       "      <td>...</td>\n",
       "      <td>4.0</td>\n",
       "      <td>7.0</td>\n",
       "      <td>1.0</td>\n",
       "      <td>NaN</td>\n",
       "      <td>NaN</td>\n",
       "      <td>NaN</td>\n",
       "      <td>38</td>\n",
       "      <td>0</td>\n",
       "      <td>ata</td>\n",
       "      <td>0.000000</td>\n",
       "    </tr>\n",
       "    <tr>\n",
       "      <th>37656</th>\n",
       "      <td>3</td>\n",
       "      <td>Fábio Deivson Lopes Maciel</td>\n",
       "      <td>fabio</td>\n",
       "      <td>Fábio</td>\n",
       "      <td>https://s.glbimg.com/es/sde/f/2018/05/18/d4072...</td>\n",
       "      <td>38</td>\n",
       "      <td>283</td>\n",
       "      <td>gol</td>\n",
       "      <td>Provável</td>\n",
       "      <td>2.0</td>\n",
       "      <td>...</td>\n",
       "      <td>2.0</td>\n",
       "      <td>NaN</td>\n",
       "      <td>NaN</td>\n",
       "      <td>NaN</td>\n",
       "      <td>NaN</td>\n",
       "      <td>2.0</td>\n",
       "      <td>38</td>\n",
       "      <td>0</td>\n",
       "      <td>gol</td>\n",
       "      <td>0.000000</td>\n",
       "    </tr>\n",
       "    <tr>\n",
       "      <th>37694</th>\n",
       "      <td>42</td>\n",
       "      <td>Henrique Pacheco de Lima</td>\n",
       "      <td>henrique</td>\n",
       "      <td>Henrique</td>\n",
       "      <td>https://s.glbimg.com/es/sde/f/2018/05/18/f4c3f...</td>\n",
       "      <td>38</td>\n",
       "      <td>283</td>\n",
       "      <td>mei</td>\n",
       "      <td>Provável</td>\n",
       "      <td>3.7</td>\n",
       "      <td>...</td>\n",
       "      <td>5.0</td>\n",
       "      <td>1.0</td>\n",
       "      <td>NaN</td>\n",
       "      <td>NaN</td>\n",
       "      <td>NaN</td>\n",
       "      <td>NaN</td>\n",
       "      <td>38</td>\n",
       "      <td>2</td>\n",
       "      <td>mei</td>\n",
       "      <td>0.005886</td>\n",
       "    </tr>\n",
       "    <tr>\n",
       "      <th>38162</th>\n",
       "      <td>19</td>\n",
       "      <td>Frederico Chaves Guedes</td>\n",
       "      <td>fred</td>\n",
       "      <td>Fred</td>\n",
       "      <td>https://s.glbimg.com/es/sde/f/2018/05/18/d0c4a...</td>\n",
       "      <td>38</td>\n",
       "      <td>283</td>\n",
       "      <td>ata</td>\n",
       "      <td>Provável</td>\n",
       "      <td>0.0</td>\n",
       "      <td>...</td>\n",
       "      <td>11.0</td>\n",
       "      <td>14.0</td>\n",
       "      <td>NaN</td>\n",
       "      <td>NaN</td>\n",
       "      <td>NaN</td>\n",
       "      <td>NaN</td>\n",
       "      <td>38</td>\n",
       "      <td>3</td>\n",
       "      <td>ata</td>\n",
       "      <td>0.006945</td>\n",
       "    </tr>\n",
       "    <tr>\n",
       "      <th>38279</th>\n",
       "      <td>17</td>\n",
       "      <td>Wellington Pereira do Nascimento</td>\n",
       "      <td>wellington-paulista</td>\n",
       "      <td>Wellington Paulista</td>\n",
       "      <td>https://s.glbimg.com/es/sde/f/2019/03/23/2138d...</td>\n",
       "      <td>38</td>\n",
       "      <td>356</td>\n",
       "      <td>ata</td>\n",
       "      <td>Provável</td>\n",
       "      <td>0.5</td>\n",
       "      <td>...</td>\n",
       "      <td>7.0</td>\n",
       "      <td>15.0</td>\n",
       "      <td>NaN</td>\n",
       "      <td>NaN</td>\n",
       "      <td>NaN</td>\n",
       "      <td>NaN</td>\n",
       "      <td>38</td>\n",
       "      <td>5</td>\n",
       "      <td>ata</td>\n",
       "      <td>0.004700</td>\n",
       "    </tr>\n",
       "  </tbody>\n",
       "</table>\n",
       "<p>5 rows × 36 columns</p>\n",
       "</div>"
      ],
      "text/plain": [
       "       Unnamed: 0                        atletas.nome         atletas.slug  \\\n",
       "37655           4  Rafael Martiniano de Miranda Moura         rafael-moura   \n",
       "37656           3          Fábio Deivson Lopes Maciel                fabio   \n",
       "37694          42            Henrique Pacheco de Lima             henrique   \n",
       "38162          19             Frederico Chaves Guedes                 fred   \n",
       "38279          17    Wellington Pereira do Nascimento  wellington-paulista   \n",
       "\n",
       "           atletas.apelido                                       atletas.foto  \\\n",
       "37655         Rafael Moura  https://s.glbimg.com/es/sde/f/2019/07/16/854eb...   \n",
       "37656                Fábio  https://s.glbimg.com/es/sde/f/2018/05/18/d4072...   \n",
       "37694             Henrique  https://s.glbimg.com/es/sde/f/2018/05/18/f4c3f...   \n",
       "38162                 Fred  https://s.glbimg.com/es/sde/f/2018/05/18/d0c4a...   \n",
       "38279  Wellington Paulista  https://s.glbimg.com/es/sde/f/2019/03/23/2138d...   \n",
       "\n",
       "       atletas.rodada_id  atletas.clube_id atletas.posicao_id  \\\n",
       "37655                 38               290                ata   \n",
       "37656                 38               283                gol   \n",
       "37694                 38               283                mei   \n",
       "38162                 38               283                ata   \n",
       "38279                 38               356                ata   \n",
       "\n",
       "      atletas.status_id  atletas.pontos_num  ...    CA     I   CV  PP  GC  \\\n",
       "37655          Provável                22.2  ...   4.0   7.0  1.0 NaN NaN   \n",
       "37656          Provável                 2.0  ...   2.0   NaN  NaN NaN NaN   \n",
       "37694          Provável                 3.7  ...   5.0   1.0  NaN NaN NaN   \n",
       "38162          Provável                 0.0  ...  11.0  14.0  NaN NaN NaN   \n",
       "38279          Provável                 0.5  ...   7.0  15.0  NaN NaN NaN   \n",
       "\n",
       "        DP  round  Rank  player_position     probs  \n",
       "37655  NaN     38     0              ata  0.000000  \n",
       "37656  2.0     38     0              gol  0.000000  \n",
       "37694  NaN     38     2              mei  0.005886  \n",
       "38162  NaN     38     3              ata  0.006945  \n",
       "38279  NaN     38     5              ata  0.004700  \n",
       "\n",
       "[5 rows x 36 columns]"
      ]
     },
     "execution_count": 41,
     "metadata": {},
     "output_type": "execute_result"
    }
   ],
   "source": [
    "df_rodada.head()"
   ]
  },
  {
   "cell_type": "markdown",
   "metadata": {},
   "source": [
    "# Otimizando a escalação"
   ]
  },
  {
   "cell_type": "markdown",
   "metadata": {},
   "source": [
    "Agora que temos as probabilidades de cada jogador, precisamos gerar a melhor escalação possível de acordo com as restrições de quantidade de \"cartoletas\" e quantidade de jogadores por posição.\n",
    "\n",
    "Para isso vamos usar ***Programação Linear*** para maximizar a soma das probabilidades, restringindo a escalação escolhida e a quantidade de cartoletas."
   ]
  },
  {
   "cell_type": "markdown",
   "metadata": {},
   "source": [
    "Para os exemplos abaixo, vou usar a formação ***4-3-3*** e um total de ***140 cartoletas***.\n"
   ]
  },
  {
   "cell_type": "code",
   "execution_count": 42,
   "metadata": {},
   "outputs": [],
   "source": [
    "formacao = {\n",
    "    'ata': 3,\n",
    "    'mei': 3,\n",
    "    'lat': 2,\n",
    "    'zag': 2,\n",
    "    'gol':1\n",
    "}\n",
    "\n",
    "cartoletas = 140"
   ]
  },
  {
   "cell_type": "markdown",
   "metadata": {},
   "source": [
    "## Programação Linear"
   ]
  },
  {
   "cell_type": "markdown",
   "metadata": {},
   "source": [
    "Podemos representar esse problema com a seguinte notação matemática."
   ]
  },
  {
   "cell_type": "markdown",
   "metadata": {},
   "source": [
    "* _zi_, probabilidade de cada jogador _i_\n",
    "* _ci_, custo de cada jogador _i_\n",
    "* _yi_, valor binário indicando se o jogador _i_ foi escalado ou não\n",
    "* _n_, total de jogadores\n",
    "* _ai_, valor binário indicando se o jogador _i_ é atacante\n",
    "* _mi_, valor binário indicando se o jogador _i_ é meio-campista\n",
    "* _li_, valor binário indicando se o jogador _i_ é laterai\n",
    "* _zi_, valor binário indicando se o jogador _i_ é zagueiro\n",
    "* _gi_, valor binário indicando se o jogador _i_ é goleiro\n",
    "\n",
    "\n",
    "$$ Max. \\sum^n_{i=1}{z}_{i} * {y}_{i}$$\n",
    "Restrições:\n",
    "$$ \\sum^n_{i=1}{c}_{i} * {y}_{i} <= 140 $$\n",
    "$$ \\sum^n_{i=1}{a}_{i} * {y}_{i} = 3 $$\n",
    "$$ \\sum^n_{i=1}{m}_{i} * {y}_{i} = 3 $$\n",
    "$$ \\sum^n_{i=1}{l}_{i} * {y}_{i} = 2 $$\n",
    "$$ \\sum^n_{i=1}{z}_{i} * {y}_{i} = 2 $$\n",
    "$$ \\sum^n_{i=1}{g}_{i} * {y}_{i} = 1 $$"
   ]
  },
  {
   "cell_type": "markdown",
   "metadata": {},
   "source": [
    "As variáveis que entraram na equação são relacionadas as posições, custo e probabilidade. Sendo assim, vamos criar dicionários com cada uma dessas informações relacionadas ao nome do jogador para facilitar a montagem do problema."
   ]
  },
  {
   "cell_type": "code",
   "execution_count": 43,
   "metadata": {},
   "outputs": [],
   "source": [
    "df_rodada.set_index('atletas.slug',inplace=True)\n",
    "z = df_rodada['probs'].to_dict()\n",
    "c = df_rodada['atletas.preco_num'].to_dict()\n",
    "\n",
    "dummies_posicao = pd.get_dummies(df_rodada['atletas.posicao_id'])\n",
    "dummies_posicao = dummies_posicao.to_dict()"
   ]
  },
  {
   "cell_type": "markdown",
   "metadata": {},
   "source": [
    "Primeiro, iniciamos o problema de otimização e definimos uma função objetivo."
   ]
  },
  {
   "cell_type": "code",
   "execution_count": 44,
   "metadata": {},
   "outputs": [],
   "source": [
    "from pulp import LpMaximize, LpProblem, lpSum, LpVariable\n",
    "\n",
    "prob = LpProblem(\"Melhor_Escalacao\", LpMaximize)\n",
    "y = LpVariable.dicts(\"Atl\",df_rodada.index,0,1,cat='Binary')\n",
    "prob += lpSum([z[i] * y[i] for i in y])"
   ]
  },
  {
   "cell_type": "markdown",
   "metadata": {},
   "source": [
    "Agora adicionamos todas as restrições e calculamos."
   ]
  },
  {
   "cell_type": "code",
   "execution_count": 45,
   "metadata": {},
   "outputs": [],
   "source": [
    "prob += lpSum([c[i] * y[i] for i in y]) <= cartoletas, \"Limite de Cartoletas\"   \n",
    "prob += lpSum([dummies_posicao['ata'][i] * y[i] for i in y]) == formacao['ata'], \"Quantidade Atacantes\"\n",
    "prob += lpSum([dummies_posicao['lat'][i] * y[i] for i in y]) == formacao['lat'], \"Quantidade Laterais\"\n",
    "prob += lpSum([dummies_posicao['mei'][i] * y[i] for i in y]) == formacao['mei'], \"Quantidade Meio\"\n",
    "prob += lpSum([dummies_posicao['zag'][i] * y[i] for i in y]) == formacao['zag'], \"Quantidade Zagueiros\"\n",
    "prob += lpSum([dummies_posicao['gol'][i] * y[i] for i in y]) == formacao['gol'], \"Quantidade Goleiro\""
   ]
  },
  {
   "cell_type": "code",
   "execution_count": 46,
   "metadata": {},
   "outputs": [
    {
     "data": {
      "text/plain": [
       "1"
      ]
     },
     "execution_count": 46,
     "metadata": {},
     "output_type": "execute_result"
    }
   ],
   "source": [
    "prob.solve()"
   ]
  },
  {
   "cell_type": "markdown",
   "metadata": {},
   "source": [
    "Os jogadores escalados que maximizam as probabilidades dentro das restrições, ficam com o valor ***1*** para a variável de atletas."
   ]
  },
  {
   "cell_type": "code",
   "execution_count": 47,
   "metadata": {},
   "outputs": [
    {
     "name": "stdout",
     "output_type": "stream",
     "text": [
      "bruno-henrique = 1.0\n",
      "carlos-sanchez = 1.0\n",
      "diego-alves = 1.0\n",
      "diogo-barbosa = 1.0\n",
      "dudu = 1.0\n",
      "everton-ribeiro = 1.0\n",
      "gerson = 1.0\n",
      "lucas-verissimo = 1.0\n",
      "marcos-rocha = 1.0\n",
      "pablo-mari = 1.0\n",
      "vagner-love = 1.0\n"
     ]
    }
   ],
   "source": [
    "escalados = []\n",
    "for v in prob.variables():\n",
    "    if v.varValue == 1:\n",
    "        atleta = v.name.replace('Atl_','').replace('_','-')\n",
    "        escalados.append(atleta)\n",
    "        print(atleta, \"=\", v.varValue)"
   ]
  },
  {
   "cell_type": "code",
   "execution_count": 48,
   "metadata": {},
   "outputs": [
    {
     "data": {
      "text/html": [
       "<div>\n",
       "<style scoped>\n",
       "    .dataframe tbody tr th:only-of-type {\n",
       "        vertical-align: middle;\n",
       "    }\n",
       "\n",
       "    .dataframe tbody tr th {\n",
       "        vertical-align: top;\n",
       "    }\n",
       "\n",
       "    .dataframe thead th {\n",
       "        text-align: right;\n",
       "    }\n",
       "</style>\n",
       "<table border=\"1\" class=\"dataframe\">\n",
       "  <thead>\n",
       "    <tr style=\"text-align: right;\">\n",
       "      <th></th>\n",
       "      <th>atletas.posicao_id</th>\n",
       "      <th>atletas.clube.id.full.name</th>\n",
       "      <th>atletas.pontos_num</th>\n",
       "      <th>atletas.preco_num</th>\n",
       "    </tr>\n",
       "    <tr>\n",
       "      <th>atletas.slug</th>\n",
       "      <th></th>\n",
       "      <th></th>\n",
       "      <th></th>\n",
       "      <th></th>\n",
       "    </tr>\n",
       "  </thead>\n",
       "  <tbody>\n",
       "    <tr>\n",
       "      <th>bruno-henrique</th>\n",
       "      <td>mei</td>\n",
       "      <td>Palmeiras</td>\n",
       "      <td>4.4</td>\n",
       "      <td>11.58</td>\n",
       "    </tr>\n",
       "    <tr>\n",
       "      <th>bruno-henrique</th>\n",
       "      <td>ata</td>\n",
       "      <td>Flamengo</td>\n",
       "      <td>-0.3</td>\n",
       "      <td>19.74</td>\n",
       "    </tr>\n",
       "    <tr>\n",
       "      <th>carlos-sanchez</th>\n",
       "      <td>mei</td>\n",
       "      <td>Santos</td>\n",
       "      <td>16.5</td>\n",
       "      <td>16.71</td>\n",
       "    </tr>\n",
       "    <tr>\n",
       "      <th>diego-alves</th>\n",
       "      <td>gol</td>\n",
       "      <td>Flamengo</td>\n",
       "      <td>-5.3</td>\n",
       "      <td>7.19</td>\n",
       "    </tr>\n",
       "    <tr>\n",
       "      <th>diogo-barbosa</th>\n",
       "      <td>lat</td>\n",
       "      <td>Palmeiras</td>\n",
       "      <td>5.4</td>\n",
       "      <td>13.62</td>\n",
       "    </tr>\n",
       "    <tr>\n",
       "      <th>dudu</th>\n",
       "      <td>ata</td>\n",
       "      <td>Palmeiras</td>\n",
       "      <td>7.3</td>\n",
       "      <td>18.90</td>\n",
       "    </tr>\n",
       "    <tr>\n",
       "      <th>everton-ribeiro</th>\n",
       "      <td>mei</td>\n",
       "      <td>Flamengo</td>\n",
       "      <td>0.1</td>\n",
       "      <td>11.37</td>\n",
       "    </tr>\n",
       "    <tr>\n",
       "      <th>gerson</th>\n",
       "      <td>mei</td>\n",
       "      <td>Flamengo</td>\n",
       "      <td>3.9</td>\n",
       "      <td>9.54</td>\n",
       "    </tr>\n",
       "    <tr>\n",
       "      <th>lucas-verissimo</th>\n",
       "      <td>zag</td>\n",
       "      <td>Santos</td>\n",
       "      <td>9.2</td>\n",
       "      <td>10.76</td>\n",
       "    </tr>\n",
       "    <tr>\n",
       "      <th>marcos-rocha</th>\n",
       "      <td>lat</td>\n",
       "      <td>Palmeiras</td>\n",
       "      <td>10.6</td>\n",
       "      <td>17.15</td>\n",
       "    </tr>\n",
       "    <tr>\n",
       "      <th>pablo-mari</th>\n",
       "      <td>zag</td>\n",
       "      <td>Flamengo</td>\n",
       "      <td>-1.0</td>\n",
       "      <td>7.21</td>\n",
       "    </tr>\n",
       "    <tr>\n",
       "      <th>vagner-love</th>\n",
       "      <td>ata</td>\n",
       "      <td>Corinthians</td>\n",
       "      <td>-1.3</td>\n",
       "      <td>4.69</td>\n",
       "    </tr>\n",
       "  </tbody>\n",
       "</table>\n",
       "</div>"
      ],
      "text/plain": [
       "                atletas.posicao_id atletas.clube.id.full.name  \\\n",
       "atletas.slug                                                    \n",
       "bruno-henrique                 mei                  Palmeiras   \n",
       "bruno-henrique                 ata                   Flamengo   \n",
       "carlos-sanchez                 mei                     Santos   \n",
       "diego-alves                    gol                   Flamengo   \n",
       "diogo-barbosa                  lat                  Palmeiras   \n",
       "dudu                           ata                  Palmeiras   \n",
       "everton-ribeiro                mei                   Flamengo   \n",
       "gerson                         mei                   Flamengo   \n",
       "lucas-verissimo                zag                     Santos   \n",
       "marcos-rocha                   lat                  Palmeiras   \n",
       "pablo-mari                     zag                   Flamengo   \n",
       "vagner-love                    ata                Corinthians   \n",
       "\n",
       "                 atletas.pontos_num  atletas.preco_num  \n",
       "atletas.slug                                            \n",
       "bruno-henrique                  4.4              11.58  \n",
       "bruno-henrique                 -0.3              19.74  \n",
       "carlos-sanchez                 16.5              16.71  \n",
       "diego-alves                    -5.3               7.19  \n",
       "diogo-barbosa                   5.4              13.62  \n",
       "dudu                            7.3              18.90  \n",
       "everton-ribeiro                 0.1              11.37  \n",
       "gerson                          3.9               9.54  \n",
       "lucas-verissimo                 9.2              10.76  \n",
       "marcos-rocha                   10.6              17.15  \n",
       "pablo-mari                     -1.0               7.21  \n",
       "vagner-love                    -1.3               4.69  "
      ]
     },
     "execution_count": 48,
     "metadata": {},
     "output_type": "execute_result"
    }
   ],
   "source": [
    "colunas = ['atletas.posicao_id','atletas.clube.id.full.name','atletas.pontos_num','atletas.preco_num']\n",
    "df_rodada.loc[escalados][colunas]"
   ]
  },
  {
   "cell_type": "markdown",
   "metadata": {},
   "source": [
    "Podemos verificar qual foi o total de pontos que essa escalação somaria na última rodada."
   ]
  },
  {
   "cell_type": "code",
   "execution_count": 49,
   "metadata": {},
   "outputs": [
    {
     "data": {
      "text/plain": [
       "49.50000000000001"
      ]
     },
     "execution_count": 49,
     "metadata": {},
     "output_type": "execute_result"
    }
   ],
   "source": [
    "df_rodada.loc[escalados]['atletas.pontos_num'].sum()"
   ]
  },
  {
   "cell_type": "markdown",
   "metadata": {},
   "source": [
    "Também o custo total."
   ]
  },
  {
   "cell_type": "code",
   "execution_count": 50,
   "metadata": {},
   "outputs": [
    {
     "data": {
      "text/plain": [
       "148.46"
      ]
     },
     "execution_count": 50,
     "metadata": {},
     "output_type": "execute_result"
    }
   ],
   "source": [
    "df_rodada.loc[escalados]['atletas.preco_num'].sum()"
   ]
  },
  {
   "cell_type": "markdown",
   "metadata": {},
   "source": [
    "# Incluindo Palpites"
   ]
  },
  {
   "cell_type": "markdown",
   "metadata": {},
   "source": [
    "Agora a cereja do bolo...\n",
    "\n",
    "Até aqui, o nosso modelo compara posição por posição, os jogadores contra seus adversários. Simulando, de certa forma, qual jogador que deveríamos escolher, para cada posição, considerando a sequência de jogos que esse jogador teve.\n",
    "\n",
    "No cálculo da distribuição estacionária, podemos notar que as probabilidades são muito semelhantes, ficando difícil escolher jogadores com muita certeza. Faz todo sentido, o futebol é rodeado de incertezas. No entanto essa estatística pode nos ajudar a escalar o time automaticamente.\n",
    "\n",
    "Podemos então utilizar a probabilidade gerada pela cadeia de Markov para selecionar um time baseado em alguns palpites que temos para os jogos. Vamos fazer um sistema simples, onde distribuimos 10 pontos, para a importância de alguns fatores. Por exemplo, eu considero que jogar em casa é um fator importante, e também gosto de apostar em times que além de jogar em casa, vão pegar adversários que nas últimas posições no campeonato. Então, dei as seguintes notas para a última rodada:\n",
    "\n",
    "\n",
    "* 5 pontos - jogar em casa\n",
    "* 3 pontos - Internacional\n",
    "* 2 pontos - Fortaleza"
   ]
  },
  {
   "cell_type": "code",
   "execution_count": 51,
   "metadata": {},
   "outputs": [],
   "source": [
    "jogar_em_casa = 5\n",
    "\n",
    "times = {\n",
    "    'Internacional':3,\n",
    "    'Fortaleza':2\n",
    "}"
   ]
  },
  {
   "cell_type": "markdown",
   "metadata": {},
   "source": [
    "Agora, aumentamos as probabilidades dos jogadores que se enquadram nessa regra, multiplicando o seu valor atual, pela porcentagem de pontos que demos a ele, por exemplo:\n",
    "\n",
    "* Jogadores que jogam em casa = Probabilidade * 150%\n",
    "* Jogadores Internacional = Probabilidade * 130%\n",
    "* Jogadores Fortaleza = Probabilidade * 120%"
   ]
  },
  {
   "cell_type": "code",
   "execution_count": 52,
   "metadata": {},
   "outputs": [],
   "source": [
    "times_casa = partidas[partidas['round'] == rodada]['home_team']\n",
    "df_rodada.loc[df_rodada['atletas.clube_id'].isin(times_casa),'probs'] = df_rodada.loc[\n",
    "    df_rodada['atletas.clube_id'].isin(times_casa),'probs'] * (jogar_em_casa / 10 + 1)"
   ]
  },
  {
   "cell_type": "code",
   "execution_count": 53,
   "metadata": {},
   "outputs": [],
   "source": [
    "for time in times:\n",
    "    df_rodada.loc[df_rodada['atletas.clube.id.full.name'] == time,'probs'] = df_rodada.loc[\n",
    "        df_rodada['atletas.clube.id.full.name'] == time,'probs'] * (times[time] / 10 + 1)"
   ]
  },
  {
   "cell_type": "code",
   "execution_count": 54,
   "metadata": {},
   "outputs": [],
   "source": [
    "z = df_rodada['probs'].to_dict()"
   ]
  },
  {
   "cell_type": "markdown",
   "metadata": {},
   "source": [
    "## Programação Linear"
   ]
  },
  {
   "cell_type": "markdown",
   "metadata": {},
   "source": [
    "Podemos otimizar a equação novamente."
   ]
  },
  {
   "cell_type": "code",
   "execution_count": 55,
   "metadata": {},
   "outputs": [],
   "source": [
    "from pulp import LpMaximize, LpProblem, lpSum, LpVariable\n",
    "\n",
    "prob = LpProblem(\"Melhor_Escalacao\", LpMaximize)\n",
    "y = LpVariable.dicts(\"Atl\",df_rodada.index,0,1,cat='Binary')\n",
    "prob += lpSum([z[i] * y[i] for i in y])"
   ]
  },
  {
   "cell_type": "code",
   "execution_count": 56,
   "metadata": {},
   "outputs": [],
   "source": [
    "prob += lpSum([c[i] * y[i] for i in y]) <= cartoletas, \"Limite de Cartoletas\"   \n",
    "prob += lpSum([dummies_posicao['ata'][i] * y[i] for i in y]) == formacao['ata'], \"Quantidade Atacantes\"\n",
    "prob += lpSum([dummies_posicao['lat'][i] * y[i] for i in y]) == formacao['lat'], \"Quantidade Laterais\"\n",
    "prob += lpSum([dummies_posicao['mei'][i] * y[i] for i in y]) == formacao['mei'], \"Quantidade Meio\"\n",
    "prob += lpSum([dummies_posicao['zag'][i] * y[i] for i in y]) == formacao['zag'], \"Quantidade Zagueiros\"\n",
    "prob += lpSum([dummies_posicao['gol'][i] * y[i] for i in y]) == formacao['gol'], \"Quantidade Goleiro\""
   ]
  },
  {
   "cell_type": "code",
   "execution_count": 57,
   "metadata": {},
   "outputs": [
    {
     "data": {
      "text/plain": [
       "1"
      ]
     },
     "execution_count": 57,
     "metadata": {},
     "output_type": "execute_result"
    }
   ],
   "source": [
    "prob.solve()"
   ]
  },
  {
   "cell_type": "markdown",
   "metadata": {},
   "source": [
    "Por fim geramos uma nova escalação, que levou em consideração os pesos que colocamos acima."
   ]
  },
  {
   "cell_type": "code",
   "execution_count": 58,
   "metadata": {},
   "outputs": [
    {
     "name": "stdout",
     "output_type": "stream",
     "text": [
      "carlos-sanchez = 1.0\n",
      "cassio = 1.0\n",
      "diogo-barbosa = 1.0\n",
      "lucas-verissimo = 1.0\n",
      "marcos-rocha = 1.0\n",
      "mateus-vital = 1.0\n",
      "osvaldo = 1.0\n",
      "romarinho = 1.0\n",
      "vagner-love = 1.0\n",
      "victor-cuesta = 1.0\n",
      "yago-pikachu = 1.0\n"
     ]
    }
   ],
   "source": [
    "escalados = []\n",
    "for v in prob.variables():\n",
    "    if v.varValue == 1:\n",
    "        atleta = v.name.replace('Atl_','').replace('_','-')\n",
    "        escalados.append(atleta)\n",
    "        print(atleta, \"=\", v.varValue)"
   ]
  },
  {
   "cell_type": "markdown",
   "metadata": {},
   "source": [
    "Ao avaliar a escalação abaixo, geramos dessa vez uma pontuação de ***81*** pontos, ***60%*** a mais que o resultado anterior.\n",
    "\n",
    "Outro ponto interessante é que usamos menos cartoletas do que na escalação anterior. Uma oportunidade é usar esse modelo para fazer escalações mais baratas, quando o objetivo for valorização. Para isso, basta colocar o limite que deseja no total de cartoletas."
   ]
  },
  {
   "cell_type": "code",
   "execution_count": 59,
   "metadata": {},
   "outputs": [
    {
     "data": {
      "text/html": [
       "<div>\n",
       "<style scoped>\n",
       "    .dataframe tbody tr th:only-of-type {\n",
       "        vertical-align: middle;\n",
       "    }\n",
       "\n",
       "    .dataframe tbody tr th {\n",
       "        vertical-align: top;\n",
       "    }\n",
       "\n",
       "    .dataframe thead th {\n",
       "        text-align: right;\n",
       "    }\n",
       "</style>\n",
       "<table border=\"1\" class=\"dataframe\">\n",
       "  <thead>\n",
       "    <tr style=\"text-align: right;\">\n",
       "      <th></th>\n",
       "      <th>atletas.posicao_id</th>\n",
       "      <th>atletas.clube.id.full.name</th>\n",
       "      <th>atletas.pontos_num</th>\n",
       "      <th>atletas.preco_num</th>\n",
       "    </tr>\n",
       "    <tr>\n",
       "      <th>atletas.slug</th>\n",
       "      <th></th>\n",
       "      <th></th>\n",
       "      <th></th>\n",
       "      <th></th>\n",
       "    </tr>\n",
       "  </thead>\n",
       "  <tbody>\n",
       "    <tr>\n",
       "      <th>carlos-sanchez</th>\n",
       "      <td>mei</td>\n",
       "      <td>Santos</td>\n",
       "      <td>16.5</td>\n",
       "      <td>16.71</td>\n",
       "    </tr>\n",
       "    <tr>\n",
       "      <th>cassio</th>\n",
       "      <td>gol</td>\n",
       "      <td>Corinthians</td>\n",
       "      <td>-3.8</td>\n",
       "      <td>7.20</td>\n",
       "    </tr>\n",
       "    <tr>\n",
       "      <th>diogo-barbosa</th>\n",
       "      <td>lat</td>\n",
       "      <td>Palmeiras</td>\n",
       "      <td>5.4</td>\n",
       "      <td>13.62</td>\n",
       "    </tr>\n",
       "    <tr>\n",
       "      <th>lucas-verissimo</th>\n",
       "      <td>zag</td>\n",
       "      <td>Santos</td>\n",
       "      <td>9.2</td>\n",
       "      <td>10.76</td>\n",
       "    </tr>\n",
       "    <tr>\n",
       "      <th>marcos-rocha</th>\n",
       "      <td>lat</td>\n",
       "      <td>Palmeiras</td>\n",
       "      <td>10.6</td>\n",
       "      <td>17.15</td>\n",
       "    </tr>\n",
       "    <tr>\n",
       "      <th>mateus-vital</th>\n",
       "      <td>mei</td>\n",
       "      <td>Corinthians</td>\n",
       "      <td>3.2</td>\n",
       "      <td>7.59</td>\n",
       "    </tr>\n",
       "    <tr>\n",
       "      <th>osvaldo</th>\n",
       "      <td>ata</td>\n",
       "      <td>Fortaleza</td>\n",
       "      <td>13.4</td>\n",
       "      <td>8.26</td>\n",
       "    </tr>\n",
       "    <tr>\n",
       "      <th>romarinho</th>\n",
       "      <td>ata</td>\n",
       "      <td>Fortaleza</td>\n",
       "      <td>1.7</td>\n",
       "      <td>5.96</td>\n",
       "    </tr>\n",
       "    <tr>\n",
       "      <th>vagner-love</th>\n",
       "      <td>ata</td>\n",
       "      <td>Corinthians</td>\n",
       "      <td>-1.3</td>\n",
       "      <td>4.69</td>\n",
       "    </tr>\n",
       "    <tr>\n",
       "      <th>victor-cuesta</th>\n",
       "      <td>zag</td>\n",
       "      <td>Internacional</td>\n",
       "      <td>15.6</td>\n",
       "      <td>16.50</td>\n",
       "    </tr>\n",
       "    <tr>\n",
       "      <th>yago-pikachu</th>\n",
       "      <td>mei</td>\n",
       "      <td>Vasco</td>\n",
       "      <td>10.9</td>\n",
       "      <td>10.46</td>\n",
       "    </tr>\n",
       "  </tbody>\n",
       "</table>\n",
       "</div>"
      ],
      "text/plain": [
       "                atletas.posicao_id atletas.clube.id.full.name  \\\n",
       "atletas.slug                                                    \n",
       "carlos-sanchez                 mei                     Santos   \n",
       "cassio                         gol                Corinthians   \n",
       "diogo-barbosa                  lat                  Palmeiras   \n",
       "lucas-verissimo                zag                     Santos   \n",
       "marcos-rocha                   lat                  Palmeiras   \n",
       "mateus-vital                   mei                Corinthians   \n",
       "osvaldo                        ata                  Fortaleza   \n",
       "romarinho                      ata                  Fortaleza   \n",
       "vagner-love                    ata                Corinthians   \n",
       "victor-cuesta                  zag              Internacional   \n",
       "yago-pikachu                   mei                      Vasco   \n",
       "\n",
       "                 atletas.pontos_num  atletas.preco_num  \n",
       "atletas.slug                                            \n",
       "carlos-sanchez                 16.5              16.71  \n",
       "cassio                         -3.8               7.20  \n",
       "diogo-barbosa                   5.4              13.62  \n",
       "lucas-verissimo                 9.2              10.76  \n",
       "marcos-rocha                   10.6              17.15  \n",
       "mateus-vital                    3.2               7.59  \n",
       "osvaldo                        13.4               8.26  \n",
       "romarinho                       1.7               5.96  \n",
       "vagner-love                    -1.3               4.69  \n",
       "victor-cuesta                  15.6              16.50  \n",
       "yago-pikachu                   10.9              10.46  "
      ]
     },
     "execution_count": 59,
     "metadata": {},
     "output_type": "execute_result"
    }
   ],
   "source": [
    "colunas = ['atletas.posicao_id','atletas.clube.id.full.name','atletas.pontos_num','atletas.preco_num']\n",
    "df_rodada.loc[escalados][colunas]"
   ]
  },
  {
   "cell_type": "code",
   "execution_count": 60,
   "metadata": {},
   "outputs": [
    {
     "data": {
      "text/plain": [
       "81.4"
      ]
     },
     "execution_count": 60,
     "metadata": {},
     "output_type": "execute_result"
    }
   ],
   "source": [
    "df_rodada.loc[escalados]['atletas.pontos_num'].sum()"
   ]
  },
  {
   "cell_type": "code",
   "execution_count": 61,
   "metadata": {},
   "outputs": [
    {
     "data": {
      "text/plain": [
       "118.9"
      ]
     },
     "execution_count": 61,
     "metadata": {},
     "output_type": "execute_result"
    }
   ],
   "source": [
    "df_rodada.loc[escalados]['atletas.preco_num'].sum()"
   ]
  },
  {
   "cell_type": "markdown",
   "metadata": {},
   "source": [
    "### TODO\n",
    "\n",
    "* Reavaliar o efeito de jogadores que acumulam mais pontos, simplesmente pelo fato de jogarem mais partidas."
   ]
  }
 ],
 "metadata": {
  "kernelspec": {
   "display_name": "Python 3",
   "language": "python",
   "name": "python3"
  },
  "language_info": {
   "codemirror_mode": {
    "name": "ipython",
    "version": 3
   },
   "file_extension": ".py",
   "mimetype": "text/x-python",
   "name": "python",
   "nbconvert_exporter": "python",
   "pygments_lexer": "ipython3",
   "version": "3.7.1"
  }
 },
 "nbformat": 4,
 "nbformat_minor": 2
}
