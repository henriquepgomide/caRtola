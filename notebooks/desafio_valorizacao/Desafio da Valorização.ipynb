{
 "cells": [
  {
   "cell_type": "markdown",
   "metadata": {},
   "source": [
    "# 0. Dependências"
   ]
  },
  {
   "cell_type": "code",
   "execution_count": 1,
   "metadata": {
    "collapsed": true
   },
   "outputs": [],
   "source": [
    "import numpy as np\n",
    "import pandas as pd\n",
    "import matplotlib.pyplot as plt\n",
    "from sklearn.preprocessing import StandardScaler\n",
    "from sklearn.linear_model import LinearRegression\n",
    "from sklearn.metrics import mean_squared_error, r2_score\n",
    "\n",
    "pd.set_option('max_columns', 100)\n",
    "\n",
    "%matplotlib inline"
   ]
  },
  {
   "cell_type": "code",
   "execution_count": 2,
   "metadata": {
    "collapsed": true
   },
   "outputs": [],
   "source": [
    "COL_ANSWER = ['variacao_preco']\n",
    "COLS_FEATURES = ['pontos', 'preco', 'media_pontos']\n",
    "COLS_EXTRA = ['id', 'rodada']\n",
    "COLS_OF_INTEREST = COLS_EXTRA + COLS_FEATURES + COL_ANSWER"
   ]
  },
  {
   "cell_type": "markdown",
   "metadata": {},
   "source": [
    "# 1. Análise dos Dados"
   ]
  },
  {
   "cell_type": "code",
   "execution_count": 3,
   "metadata": {},
   "outputs": [
    {
     "name": "stdout",
     "output_type": "stream",
     "text": [
      "(30955, 33)\n"
     ]
    },
    {
     "data": {
      "text/html": [
       "<div>\n",
       "<style scoped>\n",
       "    .dataframe tbody tr th:only-of-type {\n",
       "        vertical-align: middle;\n",
       "    }\n",
       "\n",
       "    .dataframe tbody tr th {\n",
       "        vertical-align: top;\n",
       "    }\n",
       "\n",
       "    .dataframe thead th {\n",
       "        text-align: right;\n",
       "    }\n",
       "</style>\n",
       "<table border=\"1\" class=\"dataframe\">\n",
       "  <thead>\n",
       "    <tr style=\"text-align: right;\">\n",
       "      <th></th>\n",
       "      <th>n</th>\n",
       "      <th>nome_completo</th>\n",
       "      <th>slug</th>\n",
       "      <th>apelido</th>\n",
       "      <th>foto</th>\n",
       "      <th>id</th>\n",
       "      <th>rodada</th>\n",
       "      <th>id_time</th>\n",
       "      <th>posicao</th>\n",
       "      <th>status</th>\n",
       "      <th>pontos</th>\n",
       "      <th>preco</th>\n",
       "      <th>variacao_preco</th>\n",
       "      <th>media_pontos</th>\n",
       "      <th>nome_time</th>\n",
       "      <th>CA</th>\n",
       "      <th>FC</th>\n",
       "      <th>FS</th>\n",
       "      <th>GC</th>\n",
       "      <th>I</th>\n",
       "      <th>PE</th>\n",
       "      <th>RB</th>\n",
       "      <th>SG</th>\n",
       "      <th>FF</th>\n",
       "      <th>FD</th>\n",
       "      <th>G</th>\n",
       "      <th>DD</th>\n",
       "      <th>GS</th>\n",
       "      <th>A</th>\n",
       "      <th>FT</th>\n",
       "      <th>CV</th>\n",
       "      <th>DP</th>\n",
       "      <th>PP</th>\n",
       "    </tr>\n",
       "  </thead>\n",
       "  <tbody>\n",
       "    <tr>\n",
       "      <th>0</th>\n",
       "      <td>7</td>\n",
       "      <td>Juan Silveira dos Santos</td>\n",
       "      <td>juan</td>\n",
       "      <td>Juan</td>\n",
       "      <td>https://s.glbimg.com/es/sde/f/2018/05/04/a27fb...</td>\n",
       "      <td>36540</td>\n",
       "      <td>38</td>\n",
       "      <td>FLA</td>\n",
       "      <td>zag</td>\n",
       "      <td>Contundido</td>\n",
       "      <td>0.0</td>\n",
       "      <td>5.74</td>\n",
       "      <td>0.0</td>\n",
       "      <td>1.55</td>\n",
       "      <td>262</td>\n",
       "      <td>1.0</td>\n",
       "      <td>1.0</td>\n",
       "      <td>1.0</td>\n",
       "      <td>NaN</td>\n",
       "      <td>NaN</td>\n",
       "      <td>7.0</td>\n",
       "      <td>3.0</td>\n",
       "      <td>1.0</td>\n",
       "      <td>1.0</td>\n",
       "      <td>NaN</td>\n",
       "      <td>NaN</td>\n",
       "      <td>NaN</td>\n",
       "      <td>NaN</td>\n",
       "      <td>NaN</td>\n",
       "      <td>NaN</td>\n",
       "      <td>NaN</td>\n",
       "      <td>NaN</td>\n",
       "      <td>NaN</td>\n",
       "    </tr>\n",
       "    <tr>\n",
       "      <th>1</th>\n",
       "      <td>54</td>\n",
       "      <td>Juan Silveira dos Santos</td>\n",
       "      <td>juan</td>\n",
       "      <td>Juan</td>\n",
       "      <td>https://s.glbimg.com/es/sde/f/2018/05/04/a27fb...</td>\n",
       "      <td>36540</td>\n",
       "      <td>37</td>\n",
       "      <td>FLA</td>\n",
       "      <td>zag</td>\n",
       "      <td>Contundido</td>\n",
       "      <td>0.0</td>\n",
       "      <td>5.74</td>\n",
       "      <td>0.0</td>\n",
       "      <td>1.55</td>\n",
       "      <td>262</td>\n",
       "      <td>1.0</td>\n",
       "      <td>1.0</td>\n",
       "      <td>1.0</td>\n",
       "      <td>NaN</td>\n",
       "      <td>NaN</td>\n",
       "      <td>7.0</td>\n",
       "      <td>3.0</td>\n",
       "      <td>1.0</td>\n",
       "      <td>1.0</td>\n",
       "      <td>NaN</td>\n",
       "      <td>NaN</td>\n",
       "      <td>NaN</td>\n",
       "      <td>NaN</td>\n",
       "      <td>NaN</td>\n",
       "      <td>NaN</td>\n",
       "      <td>NaN</td>\n",
       "      <td>NaN</td>\n",
       "      <td>NaN</td>\n",
       "    </tr>\n",
       "    <tr>\n",
       "      <th>2</th>\n",
       "      <td>5</td>\n",
       "      <td>Juan Silveira dos Santos</td>\n",
       "      <td>juan</td>\n",
       "      <td>Juan</td>\n",
       "      <td>https://s.glbimg.com/es/sde/f/2018/05/04/a27fb...</td>\n",
       "      <td>36540</td>\n",
       "      <td>36</td>\n",
       "      <td>FLA</td>\n",
       "      <td>zag</td>\n",
       "      <td>Contundido</td>\n",
       "      <td>0.0</td>\n",
       "      <td>5.74</td>\n",
       "      <td>0.0</td>\n",
       "      <td>1.55</td>\n",
       "      <td>262</td>\n",
       "      <td>1.0</td>\n",
       "      <td>1.0</td>\n",
       "      <td>1.0</td>\n",
       "      <td>NaN</td>\n",
       "      <td>NaN</td>\n",
       "      <td>7.0</td>\n",
       "      <td>3.0</td>\n",
       "      <td>1.0</td>\n",
       "      <td>1.0</td>\n",
       "      <td>NaN</td>\n",
       "      <td>NaN</td>\n",
       "      <td>NaN</td>\n",
       "      <td>NaN</td>\n",
       "      <td>NaN</td>\n",
       "      <td>NaN</td>\n",
       "      <td>NaN</td>\n",
       "      <td>NaN</td>\n",
       "      <td>NaN</td>\n",
       "    </tr>\n",
       "    <tr>\n",
       "      <th>3</th>\n",
       "      <td>11</td>\n",
       "      <td>Juan Silveira dos Santos</td>\n",
       "      <td>juan</td>\n",
       "      <td>Juan</td>\n",
       "      <td>https://s.glbimg.com/es/sde/f/2018/05/04/a27fb...</td>\n",
       "      <td>36540</td>\n",
       "      <td>35</td>\n",
       "      <td>FLA</td>\n",
       "      <td>zag</td>\n",
       "      <td>Contundido</td>\n",
       "      <td>0.0</td>\n",
       "      <td>5.74</td>\n",
       "      <td>0.0</td>\n",
       "      <td>1.55</td>\n",
       "      <td>262</td>\n",
       "      <td>1.0</td>\n",
       "      <td>1.0</td>\n",
       "      <td>1.0</td>\n",
       "      <td>NaN</td>\n",
       "      <td>NaN</td>\n",
       "      <td>7.0</td>\n",
       "      <td>3.0</td>\n",
       "      <td>1.0</td>\n",
       "      <td>1.0</td>\n",
       "      <td>NaN</td>\n",
       "      <td>NaN</td>\n",
       "      <td>NaN</td>\n",
       "      <td>NaN</td>\n",
       "      <td>NaN</td>\n",
       "      <td>NaN</td>\n",
       "      <td>NaN</td>\n",
       "      <td>NaN</td>\n",
       "      <td>NaN</td>\n",
       "    </tr>\n",
       "    <tr>\n",
       "      <th>4</th>\n",
       "      <td>9</td>\n",
       "      <td>Juan Silveira dos Santos</td>\n",
       "      <td>juan</td>\n",
       "      <td>Juan</td>\n",
       "      <td>https://s.glbimg.com/es/sde/f/2018/05/04/a27fb...</td>\n",
       "      <td>36540</td>\n",
       "      <td>34</td>\n",
       "      <td>FLA</td>\n",
       "      <td>zag</td>\n",
       "      <td>Contundido</td>\n",
       "      <td>0.0</td>\n",
       "      <td>5.74</td>\n",
       "      <td>0.0</td>\n",
       "      <td>1.55</td>\n",
       "      <td>262</td>\n",
       "      <td>1.0</td>\n",
       "      <td>1.0</td>\n",
       "      <td>1.0</td>\n",
       "      <td>NaN</td>\n",
       "      <td>NaN</td>\n",
       "      <td>7.0</td>\n",
       "      <td>3.0</td>\n",
       "      <td>1.0</td>\n",
       "      <td>1.0</td>\n",
       "      <td>NaN</td>\n",
       "      <td>NaN</td>\n",
       "      <td>NaN</td>\n",
       "      <td>NaN</td>\n",
       "      <td>NaN</td>\n",
       "      <td>NaN</td>\n",
       "      <td>NaN</td>\n",
       "      <td>NaN</td>\n",
       "      <td>NaN</td>\n",
       "    </tr>\n",
       "  </tbody>\n",
       "</table>\n",
       "</div>"
      ],
      "text/plain": [
       "    n             nome_completo  slug apelido  \\\n",
       "0   7  Juan Silveira dos Santos  juan    Juan   \n",
       "1  54  Juan Silveira dos Santos  juan    Juan   \n",
       "2   5  Juan Silveira dos Santos  juan    Juan   \n",
       "3  11  Juan Silveira dos Santos  juan    Juan   \n",
       "4   9  Juan Silveira dos Santos  juan    Juan   \n",
       "\n",
       "                                                foto     id  rodada id_time  \\\n",
       "0  https://s.glbimg.com/es/sde/f/2018/05/04/a27fb...  36540      38     FLA   \n",
       "1  https://s.glbimg.com/es/sde/f/2018/05/04/a27fb...  36540      37     FLA   \n",
       "2  https://s.glbimg.com/es/sde/f/2018/05/04/a27fb...  36540      36     FLA   \n",
       "3  https://s.glbimg.com/es/sde/f/2018/05/04/a27fb...  36540      35     FLA   \n",
       "4  https://s.glbimg.com/es/sde/f/2018/05/04/a27fb...  36540      34     FLA   \n",
       "\n",
       "  posicao      status  pontos  preco  variacao_preco  media_pontos  nome_time  \\\n",
       "0     zag  Contundido     0.0   5.74             0.0          1.55        262   \n",
       "1     zag  Contundido     0.0   5.74             0.0          1.55        262   \n",
       "2     zag  Contundido     0.0   5.74             0.0          1.55        262   \n",
       "3     zag  Contundido     0.0   5.74             0.0          1.55        262   \n",
       "4     zag  Contundido     0.0   5.74             0.0          1.55        262   \n",
       "\n",
       "    CA   FC   FS  GC   I   PE   RB   SG   FF  FD   G  DD  GS   A  FT  CV  DP  \\\n",
       "0  1.0  1.0  1.0 NaN NaN  7.0  3.0  1.0  1.0 NaN NaN NaN NaN NaN NaN NaN NaN   \n",
       "1  1.0  1.0  1.0 NaN NaN  7.0  3.0  1.0  1.0 NaN NaN NaN NaN NaN NaN NaN NaN   \n",
       "2  1.0  1.0  1.0 NaN NaN  7.0  3.0  1.0  1.0 NaN NaN NaN NaN NaN NaN NaN NaN   \n",
       "3  1.0  1.0  1.0 NaN NaN  7.0  3.0  1.0  1.0 NaN NaN NaN NaN NaN NaN NaN NaN   \n",
       "4  1.0  1.0  1.0 NaN NaN  7.0  3.0  1.0  1.0 NaN NaN NaN NaN NaN NaN NaN NaN   \n",
       "\n",
       "   PP  \n",
       "0 NaN  \n",
       "1 NaN  \n",
       "2 NaN  \n",
       "3 NaN  \n",
       "4 NaN  "
      ]
     },
     "execution_count": 3,
     "metadata": {},
     "output_type": "execute_result"
    }
   ],
   "source": [
    "df = pd.read_csv('../../../data/desafio_valorizacao/valorizacao_cartola_2018.csv')\n",
    "print(df.shape)\n",
    "\n",
    "df.head()"
   ]
  },
  {
   "cell_type": "code",
   "execution_count": 4,
   "metadata": {},
   "outputs": [
    {
     "name": "stdout",
     "output_type": "stream",
     "text": [
      "(30955, 6)\n"
     ]
    },
    {
     "data": {
      "text/html": [
       "<div>\n",
       "<style scoped>\n",
       "    .dataframe tbody tr th:only-of-type {\n",
       "        vertical-align: middle;\n",
       "    }\n",
       "\n",
       "    .dataframe tbody tr th {\n",
       "        vertical-align: top;\n",
       "    }\n",
       "\n",
       "    .dataframe thead th {\n",
       "        text-align: right;\n",
       "    }\n",
       "</style>\n",
       "<table border=\"1\" class=\"dataframe\">\n",
       "  <thead>\n",
       "    <tr style=\"text-align: right;\">\n",
       "      <th></th>\n",
       "      <th>id</th>\n",
       "      <th>rodada</th>\n",
       "      <th>pontos</th>\n",
       "      <th>preco</th>\n",
       "      <th>media_pontos</th>\n",
       "      <th>variacao_preco</th>\n",
       "    </tr>\n",
       "  </thead>\n",
       "  <tbody>\n",
       "    <tr>\n",
       "      <th>0</th>\n",
       "      <td>36540</td>\n",
       "      <td>38</td>\n",
       "      <td>0.0</td>\n",
       "      <td>5.74</td>\n",
       "      <td>1.55</td>\n",
       "      <td>0.0</td>\n",
       "    </tr>\n",
       "    <tr>\n",
       "      <th>1</th>\n",
       "      <td>36540</td>\n",
       "      <td>37</td>\n",
       "      <td>0.0</td>\n",
       "      <td>5.74</td>\n",
       "      <td>1.55</td>\n",
       "      <td>0.0</td>\n",
       "    </tr>\n",
       "    <tr>\n",
       "      <th>2</th>\n",
       "      <td>36540</td>\n",
       "      <td>36</td>\n",
       "      <td>0.0</td>\n",
       "      <td>5.74</td>\n",
       "      <td>1.55</td>\n",
       "      <td>0.0</td>\n",
       "    </tr>\n",
       "    <tr>\n",
       "      <th>3</th>\n",
       "      <td>36540</td>\n",
       "      <td>35</td>\n",
       "      <td>0.0</td>\n",
       "      <td>5.74</td>\n",
       "      <td>1.55</td>\n",
       "      <td>0.0</td>\n",
       "    </tr>\n",
       "    <tr>\n",
       "      <th>4</th>\n",
       "      <td>36540</td>\n",
       "      <td>34</td>\n",
       "      <td>0.0</td>\n",
       "      <td>5.74</td>\n",
       "      <td>1.55</td>\n",
       "      <td>0.0</td>\n",
       "    </tr>\n",
       "  </tbody>\n",
       "</table>\n",
       "</div>"
      ],
      "text/plain": [
       "      id  rodada  pontos  preco  media_pontos  variacao_preco\n",
       "0  36540      38     0.0   5.74          1.55             0.0\n",
       "1  36540      37     0.0   5.74          1.55             0.0\n",
       "2  36540      36     0.0   5.74          1.55             0.0\n",
       "3  36540      35     0.0   5.74          1.55             0.0\n",
       "4  36540      34     0.0   5.74          1.55             0.0"
      ]
     },
     "execution_count": 4,
     "metadata": {},
     "output_type": "execute_result"
    }
   ],
   "source": [
    "df = df[COLS_OF_INTEREST]\n",
    "print(df.shape)\n",
    "\n",
    "df.head()"
   ]
  },
  {
   "cell_type": "code",
   "execution_count": 5,
   "metadata": {},
   "outputs": [
    {
     "data": {
      "text/plain": [
       "id                False\n",
       "rodada            False\n",
       "pontos            False\n",
       "preco             False\n",
       "media_pontos      False\n",
       "variacao_preco    False\n",
       "dtype: bool"
      ]
     },
     "execution_count": 5,
     "metadata": {},
     "output_type": "execute_result"
    }
   ],
   "source": [
    "df.isna().any()"
   ]
  },
  {
   "cell_type": "markdown",
   "metadata": {},
   "source": [
    "# 2. Criação das Amostras"
   ]
  },
  {
   "cell_type": "code",
   "execution_count": 6,
   "metadata": {},
   "outputs": [
    {
     "name": "stdout",
     "output_type": "stream",
     "text": [
      "(7748, 7)\n",
      "CPU times: user 414 ms, sys: 14.3 ms, total: 429 ms\n",
      "Wall time: 434 ms\n"
     ]
    }
   ],
   "source": [
    "%%time\n",
    "df_samples = pd.DataFrame([])\n",
    "\n",
    "for rodada in range(1, 38):\n",
    "    df_rod_atual = df[df.rodada == rodada]\n",
    "    df_rod_prox = df[df.rodada == (rodada + 1)]\n",
    "    df_merge = df_rod_atual.merge(df_rod_prox[['id', 'variacao_preco']] , how='left', on='id', suffixes=('_atual', '_prox'))\n",
    "    df_merge = df_merge.dropna()\n",
    "    df_merge = df_merge[(df_merge.variacao_preco_atual != 0) & (df_merge.variacao_preco_prox != 0)]\n",
    "    df_samples = df_samples.append(df_merge)\n",
    "    \n",
    "print(df_samples.shape)"
   ]
  },
  {
   "cell_type": "code",
   "execution_count": 7,
   "metadata": {},
   "outputs": [
    {
     "data": {
      "text/html": [
       "<div>\n",
       "<style scoped>\n",
       "    .dataframe tbody tr th:only-of-type {\n",
       "        vertical-align: middle;\n",
       "    }\n",
       "\n",
       "    .dataframe tbody tr th {\n",
       "        vertical-align: top;\n",
       "    }\n",
       "\n",
       "    .dataframe thead th {\n",
       "        text-align: right;\n",
       "    }\n",
       "</style>\n",
       "<table border=\"1\" class=\"dataframe\">\n",
       "  <thead>\n",
       "    <tr style=\"text-align: right;\">\n",
       "      <th></th>\n",
       "      <th>id</th>\n",
       "      <th>rodada</th>\n",
       "      <th>pontos</th>\n",
       "      <th>preco</th>\n",
       "      <th>media_pontos</th>\n",
       "      <th>variacao_preco_atual</th>\n",
       "      <th>variacao_preco_prox</th>\n",
       "    </tr>\n",
       "  </thead>\n",
       "  <tbody>\n",
       "    <tr>\n",
       "      <th>365</th>\n",
       "      <td>83786</td>\n",
       "      <td>6</td>\n",
       "      <td>7.7</td>\n",
       "      <td>5.55</td>\n",
       "      <td>7.7</td>\n",
       "      <td>0.55</td>\n",
       "      <td>0.85</td>\n",
       "    </tr>\n",
       "    <tr>\n",
       "      <th>363</th>\n",
       "      <td>83786</td>\n",
       "      <td>7</td>\n",
       "      <td>8.3</td>\n",
       "      <td>6.40</td>\n",
       "      <td>8.0</td>\n",
       "      <td>0.85</td>\n",
       "      <td>-2.31</td>\n",
       "    </tr>\n",
       "  </tbody>\n",
       "</table>\n",
       "</div>"
      ],
      "text/plain": [
       "        id  rodada  pontos  preco  media_pontos  variacao_preco_atual  \\\n",
       "365  83786       6     7.7   5.55           7.7                  0.55   \n",
       "363  83786       7     8.3   6.40           8.0                  0.85   \n",
       "\n",
       "     variacao_preco_prox  \n",
       "365                 0.85  \n",
       "363                -2.31  "
      ]
     },
     "execution_count": 7,
     "metadata": {},
     "output_type": "execute_result"
    }
   ],
   "source": [
    "# random_player = np.random.choice(df.id.unique())\n",
    "random_player = 83786\n",
    "\n",
    "df_samples[df_samples.id == 83786].sort_values(by='rodada')"
   ]
  },
  {
   "cell_type": "code",
   "execution_count": 8,
   "metadata": {},
   "outputs": [
    {
     "data": {
      "text/html": [
       "<div>\n",
       "<style scoped>\n",
       "    .dataframe tbody tr th:only-of-type {\n",
       "        vertical-align: middle;\n",
       "    }\n",
       "\n",
       "    .dataframe tbody tr th {\n",
       "        vertical-align: top;\n",
       "    }\n",
       "\n",
       "    .dataframe thead th {\n",
       "        text-align: right;\n",
       "    }\n",
       "</style>\n",
       "<table border=\"1\" class=\"dataframe\">\n",
       "  <thead>\n",
       "    <tr style=\"text-align: right;\">\n",
       "      <th></th>\n",
       "      <th>id</th>\n",
       "      <th>rodada</th>\n",
       "      <th>pontos</th>\n",
       "      <th>preco</th>\n",
       "      <th>media_pontos</th>\n",
       "      <th>variacao_preco</th>\n",
       "    </tr>\n",
       "  </thead>\n",
       "  <tbody>\n",
       "    <tr>\n",
       "      <th>13751</th>\n",
       "      <td>83786</td>\n",
       "      <td>1</td>\n",
       "      <td>0.0</td>\n",
       "      <td>5.00</td>\n",
       "      <td>0.00</td>\n",
       "      <td>0.00</td>\n",
       "    </tr>\n",
       "    <tr>\n",
       "      <th>13750</th>\n",
       "      <td>83786</td>\n",
       "      <td>2</td>\n",
       "      <td>0.0</td>\n",
       "      <td>5.00</td>\n",
       "      <td>0.00</td>\n",
       "      <td>0.00</td>\n",
       "    </tr>\n",
       "    <tr>\n",
       "      <th>13749</th>\n",
       "      <td>83786</td>\n",
       "      <td>3</td>\n",
       "      <td>0.0</td>\n",
       "      <td>5.00</td>\n",
       "      <td>0.00</td>\n",
       "      <td>0.00</td>\n",
       "    </tr>\n",
       "    <tr>\n",
       "      <th>13748</th>\n",
       "      <td>83786</td>\n",
       "      <td>4</td>\n",
       "      <td>0.0</td>\n",
       "      <td>5.00</td>\n",
       "      <td>0.00</td>\n",
       "      <td>0.00</td>\n",
       "    </tr>\n",
       "    <tr>\n",
       "      <th>13747</th>\n",
       "      <td>83786</td>\n",
       "      <td>5</td>\n",
       "      <td>0.0</td>\n",
       "      <td>5.00</td>\n",
       "      <td>0.00</td>\n",
       "      <td>0.00</td>\n",
       "    </tr>\n",
       "    <tr>\n",
       "      <th>13746</th>\n",
       "      <td>83786</td>\n",
       "      <td>6</td>\n",
       "      <td>7.7</td>\n",
       "      <td>5.55</td>\n",
       "      <td>7.70</td>\n",
       "      <td>0.55</td>\n",
       "    </tr>\n",
       "    <tr>\n",
       "      <th>13745</th>\n",
       "      <td>83786</td>\n",
       "      <td>7</td>\n",
       "      <td>8.3</td>\n",
       "      <td>6.40</td>\n",
       "      <td>8.00</td>\n",
       "      <td>0.85</td>\n",
       "    </tr>\n",
       "    <tr>\n",
       "      <th>13744</th>\n",
       "      <td>83786</td>\n",
       "      <td>8</td>\n",
       "      <td>-4.5</td>\n",
       "      <td>4.09</td>\n",
       "      <td>3.83</td>\n",
       "      <td>-2.31</td>\n",
       "    </tr>\n",
       "    <tr>\n",
       "      <th>13743</th>\n",
       "      <td>83786</td>\n",
       "      <td>9</td>\n",
       "      <td>0.0</td>\n",
       "      <td>4.09</td>\n",
       "      <td>3.83</td>\n",
       "      <td>0.00</td>\n",
       "    </tr>\n",
       "    <tr>\n",
       "      <th>13742</th>\n",
       "      <td>83786</td>\n",
       "      <td>10</td>\n",
       "      <td>0.0</td>\n",
       "      <td>4.09</td>\n",
       "      <td>3.83</td>\n",
       "      <td>0.00</td>\n",
       "    </tr>\n",
       "    <tr>\n",
       "      <th>13741</th>\n",
       "      <td>83786</td>\n",
       "      <td>11</td>\n",
       "      <td>1.5</td>\n",
       "      <td>4.61</td>\n",
       "      <td>3.25</td>\n",
       "      <td>0.52</td>\n",
       "    </tr>\n",
       "  </tbody>\n",
       "</table>\n",
       "</div>"
      ],
      "text/plain": [
       "          id  rodada  pontos  preco  media_pontos  variacao_preco\n",
       "13751  83786       1     0.0   5.00          0.00            0.00\n",
       "13750  83786       2     0.0   5.00          0.00            0.00\n",
       "13749  83786       3     0.0   5.00          0.00            0.00\n",
       "13748  83786       4     0.0   5.00          0.00            0.00\n",
       "13747  83786       5     0.0   5.00          0.00            0.00\n",
       "13746  83786       6     7.7   5.55          7.70            0.55\n",
       "13745  83786       7     8.3   6.40          8.00            0.85\n",
       "13744  83786       8    -4.5   4.09          3.83           -2.31\n",
       "13743  83786       9     0.0   4.09          3.83            0.00\n",
       "13742  83786      10     0.0   4.09          3.83            0.00\n",
       "13741  83786      11     1.5   4.61          3.25            0.52"
      ]
     },
     "execution_count": 8,
     "metadata": {},
     "output_type": "execute_result"
    }
   ],
   "source": [
    "df[df.id == random_player].sort_values(by='rodada')"
   ]
  },
  {
   "cell_type": "markdown",
   "metadata": {},
   "source": [
    "# 3. Treinamento do Modelo"
   ]
  },
  {
   "cell_type": "code",
   "execution_count": 9,
   "metadata": {},
   "outputs": [
    {
     "name": "stdout",
     "output_type": "stream",
     "text": [
      "(7748, 4) (7748, 1)\n"
     ]
    }
   ],
   "source": [
    "x = df_samples.drop(columns=COLS_EXTRA + ['variacao_preco_prox']).values\n",
    "y = df_samples['variacao_preco_prox'].values.reshape(-1, 1)\n",
    "\n",
    "print(x.shape, y.shape)"
   ]
  },
  {
   "cell_type": "code",
   "execution_count": 10,
   "metadata": {
    "collapsed": true
   },
   "outputs": [],
   "source": [
    "std = StandardScaler()\n",
    "x = std.fit_transform(x)"
   ]
  },
  {
   "cell_type": "code",
   "execution_count": 11,
   "metadata": {},
   "outputs": [
    {
     "data": {
      "text/plain": [
       "LinearRegression(copy_X=True, fit_intercept=True, n_jobs=1, normalize=False)"
      ]
     },
     "execution_count": 11,
     "metadata": {},
     "output_type": "execute_result"
    }
   ],
   "source": [
    "reg = LinearRegression()\n",
    "reg.fit(x, y)"
   ]
  },
  {
   "cell_type": "code",
   "execution_count": 12,
   "metadata": {},
   "outputs": [
    {
     "data": {
      "text/plain": [
       "[<matplotlib.lines.Line2D at 0x1a0c57ef28>]"
      ]
     },
     "execution_count": 12,
     "metadata": {},
     "output_type": "execute_result"
    },
    {
     "data": {
      "image/png": "[encoded data removed]",
      "text/plain": [
       "<Figure size 1440x720 with 1 Axes>"
      ]
     },
     "metadata": {},
     "output_type": "display_data"
    }
   ],
   "source": [
    "y_pred = reg.predict(x)\n",
    "diff = y - y_pred\n",
    "\n",
    "plt.figure(figsize=(20, 10))\n",
    "plt.plot(diff, color='red')"
   ]
  },
  {
   "cell_type": "code",
   "execution_count": 13,
   "metadata": {},
   "outputs": [
    {
     "data": {
      "text/plain": [
       "0.812932960367022"
      ]
     },
     "execution_count": 13,
     "metadata": {},
     "output_type": "execute_result"
    }
   ],
   "source": [
    "mean_squared_error(y, y_pred)"
   ]
  },
  {
   "cell_type": "code",
   "execution_count": 14,
   "metadata": {},
   "outputs": [
    {
     "data": {
      "text/plain": [
       "0.24562492965746774"
      ]
     },
     "execution_count": 14,
     "metadata": {},
     "output_type": "execute_result"
    }
   ],
   "source": [
    "r2_score(y, y_pred)"
   ]
  },
  {
   "cell_type": "code",
   "execution_count": 15,
   "metadata": {},
   "outputs": [
    {
     "data": {
      "text/plain": [
       "(1.1004791983894168e-17, 0.9016279500808646)"
      ]
     },
     "execution_count": 15,
     "metadata": {},
     "output_type": "execute_result"
    }
   ],
   "source": [
    "diff.mean(), diff.std()"
   ]
  },
  {
   "cell_type": "code",
   "execution_count": 16,
   "metadata": {},
   "outputs": [
    {
     "name": "stdout",
     "output_type": "stream",
     "text": [
      "[[-0.66194991 -0.0144356   0.1797207   0.11751423]]\n",
      "[0.04618482]\n"
     ]
    }
   ],
   "source": [
    "print(reg.coef_)\n",
    "print(reg.intercept_)"
   ]
  }
 ],
 "metadata": {
  "kernelspec": {
   "display_name": "Python 3",
   "language": "python",
   "name": "python3"
  },
  "language_info": {
   "codemirror_mode": {
    "name": "ipython",
    "version": 3
   },
   "file_extension": ".py",
   "mimetype": "text/x-python",
   "name": "python",
   "nbconvert_exporter": "python",
   "pygments_lexer": "ipython3",
   "version": "3.5.2"
  }
 },
 "nbformat": 4,
 "nbformat_minor": 2
}
