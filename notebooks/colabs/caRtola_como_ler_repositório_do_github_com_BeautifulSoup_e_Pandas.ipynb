{
  "nbformat": 4,
  "nbformat_minor": 0,
  "metadata": {
    "colab": {
      "name": "caRtola_como_ler_repositório_do_github_com_BeautifulSoup_e_Pandas.ipynb",
      "provenance": [],
      "toc_visible": true,
      "authorship_tag": "ABX9TyNrEi+lktp8/j6VaofUISVk",
      "include_colab_link": true
    },
    "kernelspec": {
      "name": "python3",
      "display_name": "Python 3"
    }
  },
  "cells": [
    {
      "cell_type": "markdown",
      "metadata": {
        "id": "view-in-github",
        "colab_type": "text"
      },
      "source": [
        "<a href=\"https://colab.research.google.com/github/henriquepgomide/caRtola/blob/master/src/pytho/colabs/caRtola_como_ler_reposit%C3%B3rio_do_github_com_BeautifulSoup_e_Pandas.ipynb\" target=\"_parent\"><img src=\"https://colab.research.google.com/assets/colab-badge.svg\" alt=\"Open In Colab\"/></a>"
      ]
    },
    {
      "cell_type": "markdown",
      "metadata": {
        "id": "RO4thoF4Sipe",
        "colab_type": "text"
      },
      "source": [
        "# CaRtola\n",
        "\n",
        "## Como ler e agregar os dados do repositório caRtola em Python com BeautifulSoup e Pandas.\n",
        "\n",
        "\n",
        "Por Henrique Gomide, Ph.D.\n",
        "\n",
        "\n",
        "---\n",
        "\n",
        "\n",
        "## Introdução e objetivos\n",
        "\n",
        "Estamos quase prontos para começarmos o Brasileirao 2020 e o Cartola FC. Habemus Cartola! Neste primeiro post do ano você aprenderá a ler os dados de todas as rodadas de um determinado ano. Para isso, iremos:\n",
        "\n",
        "\n",
        "*   Usar o beautifulsoup para raspar páginas HTML\n",
        "*   Combinar múltiplos DataFrames do pandas\n",
        "*   Criar uma função genérica para baixar os dados de 2018-2020!\n",
        "\n",
        "Vamos lá!\n"
      ]
    },
    {
      "cell_type": "code",
      "metadata": {
        "id": "0Et9jTRNnd7O",
        "colab_type": "code",
        "colab": {}
      },
      "source": [
        "# Importar bibliotecas\n",
        "import re                          # Expressão regulares\n",
        "import requests                    # Acessar páginas da internet\n",
        "from bs4 import BeautifulSoup      # Raspar elementos de páginas da internet\n",
        "import pandas as pd                # Abrir e concatenar bancos de dados"
      ],
      "execution_count": null,
      "outputs": []
    },
    {
      "cell_type": "markdown",
      "metadata": {
        "id": "MqcLSzGDWMWy",
        "colab_type": "text"
      },
      "source": [
        "## Encontrar arquivos do repositório\n",
        "\n",
        "Com o repositório [caRtola]() já temos onde encontrar os dados entre os anos 2014 e 2020. Uma primeira solução seria clonar o repositório com todos os dados e abrir no Excel.\n",
        "\n",
        "No entanto, podemos usar o Python em nosso favor. Para começar vamos nos concentrar no ano de 2019. O link da página é: https://github.com/henriquepgomide/caRtola/tree/master/data/2019\n",
        "\n",
        "<br>\n",
        "\n",
        "![Imagem do repositório](https://i.imgur.com/wJDbju4.png)\n",
        "\n",
        "<br>\n",
        "\n",
        "Nos temos nesta página da web, os nomes dos arquivos - seguem o padrão rodada* - que precisamos abrir. "
      ]
    },
    {
      "cell_type": "markdown",
      "metadata": {
        "id": "f2MQaALUZXzj",
        "colab_type": "text"
      },
      "source": [
        "## Usar BeautifulSoup para raspar nomes dos arquivos\n",
        "\n",
        "Agora, precisamos baixar esta página para pegarmos esta lista de nomes. Para isso, usaremos as bibliotecas ```requests``` e ```BeautifulSoup```. Para nossa sorte, elas já estão instaladas no Colab."
      ]
    },
    {
      "cell_type": "code",
      "metadata": {
        "id": "NpgUyIlyoEFS",
        "colab_type": "code",
        "colab": {}
      },
      "source": [
        "# URL com caminho do repositório\n",
        "URL = 'https://github.com/henriquepgomide/caRtola/tree/master/data/2019'\n",
        "html = requests.get(URL)"
      ],
      "execution_count": null,
      "outputs": []
    },
    {
      "cell_type": "code",
      "metadata": {
        "id": "qCoyZoE2oxPV",
        "colab_type": "code",
        "colab": {}
      },
      "source": [
        "# Criar objeto BeautifulSoup para raspar urls \n",
        "soup = BeautifulSoup(html.text, 'lxml')"
      ],
      "execution_count": null,
      "outputs": []
    },
    {
      "cell_type": "code",
      "metadata": {
        "id": "JzMCR2WMqC_1",
        "colab_type": "code",
        "colab": {}
      },
      "source": [
        "# Imprimir soup\n",
        "soup"
      ],
      "execution_count": null,
      "outputs": []
    },
    {
      "cell_type": "markdown",
      "metadata": {
        "id": "2vciXWsRZSSw",
        "colab_type": "text"
      },
      "source": [
        "Conseguimos capturar todo o html. No entanto, ainda precisamos selecionar as partes do html que possuem links.\n",
        "\n",
        "As tags de links geralmente tem esta estrutura:\n",
        "\n",
        "```<a href=\"http://alguma.coisa.com/arquivo-texto\">Texto</a>```\n",
        "\n",
        "Com base em nosso conhecimento primário de html, já sabemos que podemos filtrar as tags de link ```a``` que possuem determinados padrões dentro de href.\n",
        "\n",
        "Isso é fácil de fazer usando a função ```find_all``` do BeatutifulSoup.\n",
        "\n",
        "```\n",
        "find_all('a', href=True)\n",
        "```"
      ]
    },
    {
      "cell_type": "code",
      "metadata": {
        "id": "CnKk5EBPbN5B",
        "colab_type": "code",
        "colab": {
          "base_uri": "https://localhost:8080/",
          "height": 360
        },
        "outputId": "de5aad85-c04e-4d97-a9ae-d03617f3b1c0"
      },
      "source": [
        "result = []\n",
        "for tag in soup.find_all('a', href=True):\n",
        "    result.append(tag)\n",
        "result[70:90:2]"
      ],
      "execution_count": null,
      "outputs": [
        {
          "output_type": "execute_result",
          "data": {
            "text/plain": [
              "[<a class=\"link-gray ml-2\" data-pjax=\"\" href=\"/henriquepgomide/caRtola/commit/b4283c61ddc8fcf4f70ded2f8a911850a8b47753\">\n",
              " <relative-time class=\"no-wrap\" datetime=\"2019-12-09T22:39:14Z\">Dec 9, 2019</relative-time>\n",
              " </a>,\n",
              " <a class=\"pl-3 pr-3 py-3 p-md-0 mt-n3 mb-n3 mr-n3 m-md-0 link-gray-dark no-underline no-wrap\" data-pjax=\"\" href=\"/henriquepgomide/caRtola/commits/master/data/2019\">\n",
              " <svg aria-hidden=\"true\" class=\"octicon octicon-history text-gray\" height=\"16\" text=\"gray\" version=\"1.1\" viewbox=\"0 0 16 16\" width=\"16\"><path d=\"M1.643 3.143L.427 1.927A.25.25 0 000 2.104V5.75c0 .138.112.25.25.25h3.646a.25.25 0 00.177-.427L2.715 4.215a6.5 6.5 0 11-1.18 4.458.75.75 0 10-1.493.154 8.001 8.001 0 101.6-5.684zM7.75 4a.75.75 0 01.75.75v2.992l2.028.812a.75.75 0 01-.557 1.392l-2.5-1A.75.75 0 017 8.25v-3.5A.75.75 0 017.75 4z\" fill-rule=\"evenodd\"></path></svg>\n",
              " <span class=\"d-none d-sm-inline\">\n",
              " <strong>History</strong>\n",
              " </span>\n",
              " </a>,\n",
              " <a class=\"js-navigation-open d-block py-2 px-3\" href=\"/henriquepgomide/caRtola/tree/master/data\" rel=\"nofollow\" title=\"Go to parent directory\">\n",
              " <span class=\"text-bold text-center d-inline-block\" style=\"min-width: 16px;\">. .</span>\n",
              " </a>,\n",
              " <a class=\"js-navigation-open link-gray-dark\" href=\"/henriquepgomide/caRtola/tree/master/data/2019/team-rankings\" id=\"4c3fa43e2bc40689660a8b10cb303c0a-4c01b0b9ac804062a18eb94535e9bae3cbdeb0ac\" title=\"team-rankings\">team-rankings</a>,\n",
              " <a class=\"js-navigation-open link-gray-dark\" href=\"/henriquepgomide/caRtola/blob/master/data/2019/2019_partidas.csv\" id=\"0e9c4ec135c291bf8c7063184f53e8eb-1a5e2012de66cd912ca86359d02943194602f406\" title=\"2019_partidas.csv\">2019_partidas.csv</a>,\n",
              " <a class=\"js-navigation-open link-gray-dark\" href=\"/henriquepgomide/caRtola/blob/master/data/2019/rodada-1.csv\" id=\"fb4c04b303cc64d68eee44e383bde485-9726f89ccd43a08eb8de2bacdf62f74568970856\" title=\"rodada-1.csv\">rodada-1.csv</a>,\n",
              " <a class=\"js-navigation-open link-gray-dark\" href=\"/henriquepgomide/caRtola/blob/master/data/2019/rodada-11.csv\" id=\"47661cb62f44c90e455301101b822731-8b4433fbd17ce09c3eb058fcc5a131d87936f7de\" title=\"rodada-11.csv\">rodada-11.csv</a>,\n",
              " <a class=\"js-navigation-open link-gray-dark\" href=\"/henriquepgomide/caRtola/blob/master/data/2019/rodada-13.csv\" id=\"a93a03e981510d4de88b90b6a5216bce-741f3a0b513540307b5571c5dfe7272a21ee0d80\" title=\"rodada-13.csv\">rodada-13.csv</a>,\n",
              " <a class=\"js-navigation-open link-gray-dark\" href=\"/henriquepgomide/caRtola/blob/master/data/2019/rodada-15.csv\" id=\"643961cd47681439a6997eb6dda96539-71cdca326d699a36c3c7ee75c2e43e19b9f70413\" title=\"rodada-15.csv\">rodada-15.csv</a>,\n",
              " <a class=\"js-navigation-open link-gray-dark\" href=\"/henriquepgomide/caRtola/blob/master/data/2019/rodada-17.csv\" id=\"92886118929d16584a97aa1c60949d50-6a73500a27a96da79c5b3accce49f4e98d337416\" title=\"rodada-17.csv\">rodada-17.csv</a>]"
            ]
          },
          "metadata": {
            "tags": []
          },
          "execution_count": 5
        }
      ]
    },
    {
      "cell_type": "markdown",
      "metadata": {
        "id": "WQt9sxUJcxQY",
        "colab_type": "text"
      },
      "source": [
        "Temos muitos links nesta página. Mas nosso interesse está nos últimos links da saída anterior. Repare que eles seguem um padrão. O que é campo fértil para Expressões regulares. REGEX, hora de aquecer e entrar em campo. \n",
        "\n",
        "\n",
        "Podemos usar diversas expressões regulares para pegarmos o que quisermos. Neste tutorial, iremos nos concentrar no texto dentro do atributo *href*.\n",
        "\n",
        "```\n",
        "<a class=\"js-navigation-open link-gray-dark\" href=\"/henriquepgomide/caRtola/tree/master/data/2019/team-rankings\" id=\"4c3fa43e2bc40689660a8b10cb303c0a-4c01b0b9ac804062a18eb94535e9bae3cbdeb0ac\" title=\"team-rankings\">team-rankings</a>\n",
        "```\n",
        "\n",
        "Este link possui um lugar para o [treino e teste de REGEX](https://regex101.com/). Recomendo."
      ]
    },
    {
      "cell_type": "markdown",
      "metadata": {
        "id": "OhQuKchW2AsC",
        "colab_type": "text"
      },
      "source": [
        "## Combinar múltiplos dataframes do Pandas"
      ]
    },
    {
      "cell_type": "code",
      "metadata": {
        "id": "7Tmcea6acwo_",
        "colab_type": "code",
        "colab": {}
      },
      "source": [
        " '''\n",
        " Selecionar aqueles href que:\n",
        "  a) possuem o padrão rodada-[número de um ou dois dígitos] \n",
        "  b) terminam com csv. \n",
        "'''\n",
        "regex =  'rodada-([0-9]|[0-9][0-9])\\.csv'"
      ],
      "execution_count": null,
      "outputs": []
    },
    {
      "cell_type": "markdown",
      "metadata": {
        "id": "-Ue1DIbAeoHl",
        "colab_type": "text"
      },
      "source": [
        "Além de selecionar as tags com href, vamos aproveitar e criar um dicionário com o nome dos arquivos e com o caminho dos arquivos **raw** do github. Isso nos possibilitará: \n",
        "\n",
        "1. Criar uma coluna com a informação da rodada no pandas\n",
        "2. Iterar sobre uma lista de urls e baixar tudo numa lista de DataFrames do Pandas"
      ]
    },
    {
      "cell_type": "code",
      "metadata": {
        "id": "rRTHyoqkqjAh",
        "colab_type": "code",
        "colab": {}
      },
      "source": [
        "dict_of_files = {}                                                          # Criar dicionário vazio\n",
        "for tag in soup.find_all('a', attrs={'href': re.compile(regex)}):           # Encontrar tags de nosso interesse\n",
        "    href_str = tag.get('href')                                              \n",
        "    file_name = re.sub('/henriquepgomide/caRtola/blob/master/data/2019/',   # Substituir padrão por nada\n",
        "                       '', \n",
        "                       href_str)\n",
        "    \n",
        "    file_url = re.sub('/henriquepgomide/caRtola/blob/master/data/2019/',    # Substituir padrão por links para arquivos raw\n",
        "                    'https://raw.githubusercontent.com/henriquepgomide/caRtola/master/data/2019/', \n",
        "                    href_str)\n",
        "\n",
        "    dict_of_files[file_name] = file_url"
      ],
      "execution_count": null,
      "outputs": []
    },
    {
      "cell_type": "code",
      "metadata": {
        "id": "KuhfuB1Ar5v5",
        "colab_type": "code",
        "colab": {
          "base_uri": "https://localhost:8080/",
          "height": 85
        },
        "outputId": "609dcf8b-52b7-443c-ab44-03b066dc9e9a"
      },
      "source": [
        "# Imprimir os primeiros casos do dicionário criado\n",
        "dict(list(dict_of_files.items())[0:4]) # Ignore este código horrível"
      ],
      "execution_count": null,
      "outputs": [
        {
          "output_type": "execute_result",
          "data": {
            "text/plain": [
              "{'rodada-1.csv': 'https://raw.githubusercontent.com/henriquepgomide/caRtola/master/data/2019/rodada-1.csv',\n",
              " 'rodada-10.csv': 'https://raw.githubusercontent.com/henriquepgomide/caRtola/master/data/2019/rodada-10.csv',\n",
              " 'rodada-11.csv': 'https://raw.githubusercontent.com/henriquepgomide/caRtola/master/data/2019/rodada-11.csv',\n",
              " 'rodada-12.csv': 'https://raw.githubusercontent.com/henriquepgomide/caRtola/master/data/2019/rodada-12.csv'}"
            ]
          },
          "metadata": {
            "tags": []
          },
          "execution_count": 8
        }
      ]
    },
    {
      "cell_type": "code",
      "metadata": {
        "id": "h083t_Emwhiy",
        "colab_type": "code",
        "colab": {}
      },
      "source": [
        "# Ler os dataframes dos arquivos\n",
        "list_of_dataframes = []\n",
        "for key, item in dict_of_files.items():\n",
        "    df = pd.read_csv(item)\n",
        "    df['rodada'] = key\n",
        "    list_of_dataframes.append(df)"
      ],
      "execution_count": null,
      "outputs": []
    },
    {
      "cell_type": "code",
      "metadata": {
        "id": "9gIN4fvey4ZC",
        "colab_type": "code",
        "colab": {
          "base_uri": "https://localhost:8080/",
          "height": 34
        },
        "outputId": "de168261-fccc-42bd-a748-4c45ca9883a5"
      },
      "source": [
        "# Combinar lista de DataFrames criados\n",
        "cartola = pd.concat(list_of_dataframes)\n",
        "cartola.shape"
      ],
      "execution_count": null,
      "outputs": [
        {
          "output_type": "execute_result",
          "data": {
            "text/plain": [
              "(30581, 34)"
            ]
          },
          "metadata": {
            "tags": []
          },
          "execution_count": 13
        }
      ]
    },
    {
      "cell_type": "markdown",
      "metadata": {
        "id": "TXVwmXNcs_GC",
        "colab_type": "text"
      },
      "source": [
        "## Testar importação\n",
        "\n",
        "Hora de testar nossa implementação e verificar se os dados estão okay. Para isso, vamos usar as funções clássicas do pandas."
      ]
    },
    {
      "cell_type": "code",
      "metadata": {
        "id": "_uWMvVA7tRKl",
        "colab_type": "code",
        "colab": {
          "base_uri": "https://localhost:8080/",
          "height": 714
        },
        "outputId": "9a994ab6-e320-4fb7-a48a-3d1964190d33"
      },
      "source": [
        "# Ver informações do dataframe\n",
        "cartola.info()"
      ],
      "execution_count": null,
      "outputs": [
        {
          "output_type": "stream",
          "text": [
            "<class 'pandas.core.frame.DataFrame'>\n",
            "Int64Index: 30581 entries, 0 to 774\n",
            "Data columns (total 34 columns):\n",
            " #   Column                      Non-Null Count  Dtype  \n",
            "---  ------                      --------------  -----  \n",
            " 0   Unnamed: 0                  30581 non-null  int64  \n",
            " 1   atletas.nome                30581 non-null  object \n",
            " 2   atletas.slug                30581 non-null  object \n",
            " 3   atletas.apelido             30581 non-null  object \n",
            " 4   atletas.foto                29741 non-null  object \n",
            " 5   atletas.atleta_id           30581 non-null  int64  \n",
            " 6   atletas.rodada_id           30581 non-null  int64  \n",
            " 7   atletas.clube_id            30581 non-null  int64  \n",
            " 8   atletas.posicao_id          30581 non-null  object \n",
            " 9   atletas.status_id           30581 non-null  object \n",
            " 10  atletas.pontos_num          30581 non-null  float64\n",
            " 11  atletas.preco_num           30581 non-null  float64\n",
            " 12  atletas.variacao_num        30581 non-null  float64\n",
            " 13  atletas.media_num           30581 non-null  float64\n",
            " 14  atletas.clube.id.full.name  30581 non-null  object \n",
            " 15  FS                          17682 non-null  float64\n",
            " 16  RB                          16653 non-null  float64\n",
            " 17  PE                          18731 non-null  float64\n",
            " 18  FC                          17442 non-null  float64\n",
            " 19  G                           6861 non-null   float64\n",
            " 20  FF                          13914 non-null  float64\n",
            " 21  FT                          2871 non-null   float64\n",
            " 22  FD                          12005 non-null  float64\n",
            " 23  DD                          1507 non-null   float64\n",
            " 24  GS                          1527 non-null   float64\n",
            " 25  SG                          5927 non-null   float64\n",
            " 26  A                           5941 non-null   float64\n",
            " 27  CA                          12232 non-null  float64\n",
            " 28  I                           6677 non-null   float64\n",
            " 29  CV                          1519 non-null   float64\n",
            " 30  PP                          528 non-null    float64\n",
            " 31  GC                          378 non-null    float64\n",
            " 32  DP                          301 non-null    float64\n",
            " 33  rodada                      30581 non-null  object \n",
            "dtypes: float64(22), int64(4), object(8)\n",
            "memory usage: 8.2+ MB\n"
          ],
          "name": "stdout"
        }
      ]
    },
    {
      "cell_type": "code",
      "metadata": {
        "id": "O_9hlA3WzE_o",
        "colab_type": "code",
        "colab": {
          "base_uri": "https://localhost:8080/",
          "height": 394
        },
        "outputId": "1f929f17-7344-4092-d7a9-b24ea59e1c44"
      },
      "source": [
        "# Ver estrutura de dados\n",
        "cartola.head()"
      ],
      "execution_count": null,
      "outputs": [
        {
          "output_type": "execute_result",
          "data": {
            "text/html": [
              "<div>\n",
              "<style scoped>\n",
              "    .dataframe tbody tr th:only-of-type {\n",
              "        vertical-align: middle;\n",
              "    }\n",
              "\n",
              "    .dataframe tbody tr th {\n",
              "        vertical-align: top;\n",
              "    }\n",
              "\n",
              "    .dataframe thead th {\n",
              "        text-align: right;\n",
              "    }\n",
              "</style>\n",
              "<table border=\"1\" class=\"dataframe\">\n",
              "  <thead>\n",
              "    <tr style=\"text-align: right;\">\n",
              "      <th></th>\n",
              "      <th>Unnamed: 0</th>\n",
              "      <th>atletas.nome</th>\n",
              "      <th>atletas.slug</th>\n",
              "      <th>atletas.apelido</th>\n",
              "      <th>atletas.foto</th>\n",
              "      <th>atletas.atleta_id</th>\n",
              "      <th>atletas.rodada_id</th>\n",
              "      <th>atletas.clube_id</th>\n",
              "      <th>atletas.posicao_id</th>\n",
              "      <th>atletas.status_id</th>\n",
              "      <th>atletas.pontos_num</th>\n",
              "      <th>atletas.preco_num</th>\n",
              "      <th>atletas.variacao_num</th>\n",
              "      <th>atletas.media_num</th>\n",
              "      <th>atletas.clube.id.full.name</th>\n",
              "      <th>FS</th>\n",
              "      <th>RB</th>\n",
              "      <th>PE</th>\n",
              "      <th>FC</th>\n",
              "      <th>G</th>\n",
              "      <th>FF</th>\n",
              "      <th>FT</th>\n",
              "      <th>FD</th>\n",
              "      <th>DD</th>\n",
              "      <th>GS</th>\n",
              "      <th>SG</th>\n",
              "      <th>A</th>\n",
              "      <th>CA</th>\n",
              "      <th>I</th>\n",
              "      <th>CV</th>\n",
              "      <th>PP</th>\n",
              "      <th>GC</th>\n",
              "      <th>DP</th>\n",
              "      <th>rodada</th>\n",
              "    </tr>\n",
              "  </thead>\n",
              "  <tbody>\n",
              "    <tr>\n",
              "      <th>0</th>\n",
              "      <td>1</td>\n",
              "      <td>Glaybson Yago Souza Lisboa</td>\n",
              "      <td>yago-pikachu</td>\n",
              "      <td>Yago Pikachu</td>\n",
              "      <td>https://s.glbimg.com/es/sde/f/2018/09/27/ade8a...</td>\n",
              "      <td>80196</td>\n",
              "      <td>1</td>\n",
              "      <td>267</td>\n",
              "      <td>mei</td>\n",
              "      <td>Provável</td>\n",
              "      <td>2.0</td>\n",
              "      <td>11.1</td>\n",
              "      <td>-2.9</td>\n",
              "      <td>2.0</td>\n",
              "      <td>Vasco</td>\n",
              "      <td>1.0</td>\n",
              "      <td>1.0</td>\n",
              "      <td>NaN</td>\n",
              "      <td>NaN</td>\n",
              "      <td>NaN</td>\n",
              "      <td>NaN</td>\n",
              "      <td>NaN</td>\n",
              "      <td>NaN</td>\n",
              "      <td>NaN</td>\n",
              "      <td>NaN</td>\n",
              "      <td>NaN</td>\n",
              "      <td>NaN</td>\n",
              "      <td>NaN</td>\n",
              "      <td>NaN</td>\n",
              "      <td>NaN</td>\n",
              "      <td>NaN</td>\n",
              "      <td>NaN</td>\n",
              "      <td>NaN</td>\n",
              "      <td>rodada-1.csv</td>\n",
              "    </tr>\n",
              "    <tr>\n",
              "      <th>1</th>\n",
              "      <td>2</td>\n",
              "      <td>Juan Ramón Cazares Sevillano</td>\n",
              "      <td>cazares</td>\n",
              "      <td>Cazares</td>\n",
              "      <td>https://s.glbimg.com/es/sde/f/2018/05/07/2952d...</td>\n",
              "      <td>81682</td>\n",
              "      <td>1</td>\n",
              "      <td>282</td>\n",
              "      <td>mei</td>\n",
              "      <td>Contundido</td>\n",
              "      <td>0.0</td>\n",
              "      <td>11.0</td>\n",
              "      <td>0.0</td>\n",
              "      <td>0.0</td>\n",
              "      <td>Atlético-MG</td>\n",
              "      <td>NaN</td>\n",
              "      <td>NaN</td>\n",
              "      <td>NaN</td>\n",
              "      <td>NaN</td>\n",
              "      <td>NaN</td>\n",
              "      <td>NaN</td>\n",
              "      <td>NaN</td>\n",
              "      <td>NaN</td>\n",
              "      <td>NaN</td>\n",
              "      <td>NaN</td>\n",
              "      <td>NaN</td>\n",
              "      <td>NaN</td>\n",
              "      <td>NaN</td>\n",
              "      <td>NaN</td>\n",
              "      <td>NaN</td>\n",
              "      <td>NaN</td>\n",
              "      <td>NaN</td>\n",
              "      <td>NaN</td>\n",
              "      <td>rodada-1.csv</td>\n",
              "    </tr>\n",
              "    <tr>\n",
              "      <th>2</th>\n",
              "      <td>3</td>\n",
              "      <td>Alessandro Vinícius Gonçalves da Silva</td>\n",
              "      <td>alessandro-vinicius</td>\n",
              "      <td>Alessandro Vinícius</td>\n",
              "      <td>https://s.glbimg.com/es/sde/f/2019/03/30/ffa3d...</td>\n",
              "      <td>94495</td>\n",
              "      <td>1</td>\n",
              "      <td>282</td>\n",
              "      <td>mei</td>\n",
              "      <td>Nulo</td>\n",
              "      <td>0.0</td>\n",
              "      <td>1.0</td>\n",
              "      <td>0.0</td>\n",
              "      <td>0.0</td>\n",
              "      <td>Atlético-MG</td>\n",
              "      <td>NaN</td>\n",
              "      <td>NaN</td>\n",
              "      <td>NaN</td>\n",
              "      <td>NaN</td>\n",
              "      <td>NaN</td>\n",
              "      <td>NaN</td>\n",
              "      <td>NaN</td>\n",
              "      <td>NaN</td>\n",
              "      <td>NaN</td>\n",
              "      <td>NaN</td>\n",
              "      <td>NaN</td>\n",
              "      <td>NaN</td>\n",
              "      <td>NaN</td>\n",
              "      <td>NaN</td>\n",
              "      <td>NaN</td>\n",
              "      <td>NaN</td>\n",
              "      <td>NaN</td>\n",
              "      <td>NaN</td>\n",
              "      <td>rodada-1.csv</td>\n",
              "    </tr>\n",
              "    <tr>\n",
              "      <th>3</th>\n",
              "      <td>4</td>\n",
              "      <td>Diego Alves Carreira</td>\n",
              "      <td>diego-alves</td>\n",
              "      <td>Diego Alves</td>\n",
              "      <td>https://s.glbimg.com/es/sde/f/2019/04/26/7bdef...</td>\n",
              "      <td>38509</td>\n",
              "      <td>1</td>\n",
              "      <td>262</td>\n",
              "      <td>gol</td>\n",
              "      <td>Contundido</td>\n",
              "      <td>0.0</td>\n",
              "      <td>5.0</td>\n",
              "      <td>0.0</td>\n",
              "      <td>0.0</td>\n",
              "      <td>Flamengo</td>\n",
              "      <td>NaN</td>\n",
              "      <td>NaN</td>\n",
              "      <td>NaN</td>\n",
              "      <td>NaN</td>\n",
              "      <td>NaN</td>\n",
              "      <td>NaN</td>\n",
              "      <td>NaN</td>\n",
              "      <td>NaN</td>\n",
              "      <td>NaN</td>\n",
              "      <td>NaN</td>\n",
              "      <td>NaN</td>\n",
              "      <td>NaN</td>\n",
              "      <td>NaN</td>\n",
              "      <td>NaN</td>\n",
              "      <td>NaN</td>\n",
              "      <td>NaN</td>\n",
              "      <td>NaN</td>\n",
              "      <td>NaN</td>\n",
              "      <td>rodada-1.csv</td>\n",
              "    </tr>\n",
              "    <tr>\n",
              "      <th>4</th>\n",
              "      <td>5</td>\n",
              "      <td>Réver Humberto Alves Araújo</td>\n",
              "      <td>rever</td>\n",
              "      <td>Réver</td>\n",
              "      <td>https://s.glbimg.com/es/sde/f/2019/03/29/d49f2...</td>\n",
              "      <td>52253</td>\n",
              "      <td>1</td>\n",
              "      <td>282</td>\n",
              "      <td>zag</td>\n",
              "      <td>Provável</td>\n",
              "      <td>0.0</td>\n",
              "      <td>16.0</td>\n",
              "      <td>0.0</td>\n",
              "      <td>0.0</td>\n",
              "      <td>Atlético-MG</td>\n",
              "      <td>NaN</td>\n",
              "      <td>NaN</td>\n",
              "      <td>NaN</td>\n",
              "      <td>NaN</td>\n",
              "      <td>NaN</td>\n",
              "      <td>NaN</td>\n",
              "      <td>NaN</td>\n",
              "      <td>NaN</td>\n",
              "      <td>NaN</td>\n",
              "      <td>NaN</td>\n",
              "      <td>NaN</td>\n",
              "      <td>NaN</td>\n",
              "      <td>NaN</td>\n",
              "      <td>NaN</td>\n",
              "      <td>NaN</td>\n",
              "      <td>NaN</td>\n",
              "      <td>NaN</td>\n",
              "      <td>NaN</td>\n",
              "      <td>rodada-1.csv</td>\n",
              "    </tr>\n",
              "  </tbody>\n",
              "</table>\n",
              "</div>"
            ],
            "text/plain": [
              "   Unnamed: 0                            atletas.nome  ...  DP        rodada\n",
              "0           1              Glaybson Yago Souza Lisboa  ... NaN  rodada-1.csv\n",
              "1           2            Juan Ramón Cazares Sevillano  ... NaN  rodada-1.csv\n",
              "2           3  Alessandro Vinícius Gonçalves da Silva  ... NaN  rodada-1.csv\n",
              "3           4                    Diego Alves Carreira  ... NaN  rodada-1.csv\n",
              "4           5             Réver Humberto Alves Araújo  ... NaN  rodada-1.csv\n",
              "\n",
              "[5 rows x 34 columns]"
            ]
          },
          "metadata": {
            "tags": []
          },
          "execution_count": 11
        }
      ]
    },
    {
      "cell_type": "markdown",
      "metadata": {
        "id": "wRRO9Sa4tnyb",
        "colab_type": "text"
      },
      "source": [
        "## Desafio - função\n",
        "\n",
        "Já temos o código pronto para 2019. Que tal escrever uma função para coletar os dados dos anos 2018, 2019 e 2020?\n",
        "\n",
        "Agora é com você..."
      ]
    },
    {
      "cell_type": "code",
      "metadata": {
        "id": "tN8l576EzQQo",
        "colab_type": "code",
        "colab": {}
      },
      "source": [
        "# Sua resposta...."
      ],
      "execution_count": null,
      "outputs": []
    },
    {
      "cell_type": "markdown",
      "metadata": {
        "id": "JOcjX8klw8s0",
        "colab_type": "text"
      },
      "source": [
        "\n",
        "**Solução**: Clique **aqui** para ver uma resposta.\n",
        "\n",
        "<!--\n",
        "# Minha resposta\n",
        "# A sua provavelmente será melhor :)\n",
        "\n",
        "def read_cartola_data(year):\n",
        "    '''\n",
        "    Read data from a given year of the CaRtola repository\n",
        "\n",
        "    Parameters:\n",
        "    year (int) - year inside the range 2018-2020.\n",
        "    ''' \n",
        "\n",
        "    if year in [2018, 2019, 2020]:\n",
        "\n",
        "        # URL para baixar os arquivos\n",
        "        url = 'https://github.com/henriquepgomide/caRtola/tree/master/data/{}'.format(year)\n",
        "        html = requests.get(url)\n",
        "    \n",
        "        soup = BeautifulSoup(html.text, 'lxml')\n",
        "    \n",
        "        dict_of_files = {}\n",
        "        for tag in soup.find_all('a', attrs={'href': re.compile('rodada-([0-9]|[0-9][0-9])\\.csv')}):\n",
        "            href_str = tag.get('href')\n",
        "            file_name = re.sub('/henriquepgomide/caRtola/blob/master/data/{}/'.format(year), \n",
        "                            '', \n",
        "                            href_str)\n",
        "            \n",
        "            file_url = re.sub('/henriquepgomide/caRtola/blob/master/data/{}/'.format(year), \n",
        "                            'https://raw.githubusercontent.com/henriquepgomide/caRtola/master/data/{}/'.format(year), \n",
        "                            href_str)\n",
        "            dict_of_files[file_name] = file_url\n",
        "    \n",
        "        list_of_dataframes = []\n",
        "        for key, item in dict_of_files.items():\n",
        "            df = pd.read_csv(item)\n",
        "            df['rodada'] = key\n",
        "            list_of_dataframes.append(df)\n",
        "    \n",
        "        df_cartola = pd.concat(list_of_dataframes)\n",
        "    \n",
        "        return df_cartola\n",
        "    \n",
        "    else:\n",
        "        print('You need to add an year within the range: 2018 and 2020')\n",
        "\n",
        "-->"
      ]
    },
    {
      "cell_type": "markdown",
      "metadata": {
        "id": "bXWFBuDS2WeR",
        "colab_type": "text"
      },
      "source": [
        "## Função para baixar os dados de diversos anos"
      ]
    },
    {
      "cell_type": "markdown",
      "metadata": {
        "id": "kMRGMYHBxeTJ",
        "colab_type": "text"
      },
      "source": [
        "## Happy Coding!\n",
        "\n",
        "\n",
        "<div>\n",
        "<img src=\"https://www.openmoji.org/data/color/svg/1F913.svg\" width=\"200\">\n",
        "</div>"
      ]
    },
    {
      "cell_type": "code",
      "metadata": {
        "id": "_NkBIhb3yKgS",
        "colab_type": "code",
        "colab": {}
      },
      "source": [
        "# Resposta ao desafio\n",
        "\n",
        "import re                          # Expressão regulares\n",
        "import requests                    # Acessar páginas da internet\n",
        "from bs4 import BeautifulSoup      # Raspar elementos de páginas da internet\n",
        "import pandas as pd                # Abrir e concatenar bancos de dados\n",
        "\n",
        "def read_cartola_data(year):\n",
        "    '''\n",
        "    Read data from a given year of the CaRtola repository\n",
        "\n",
        "    Parameters:\n",
        "    year (int) - year inside the range 2018-2020.\n",
        "    ''' \n",
        "\n",
        "    if year in [2018, 2019, 2020]:\n",
        "\n",
        "        # URL para baixar os arquivos\n",
        "        url = 'https://github.com/henriquepgomide/caRtola/tree/master/data/{}'.format(year)\n",
        "        html = requests.get(url)\n",
        "    \n",
        "        soup = BeautifulSoup(html.text, 'lxml')\n",
        "    \n",
        "        dict_of_files = {}\n",
        "        for tag in soup.find_all('a', attrs={'href': re.compile('rodada-([0-9]|[0-9][0-9])\\.csv')}):\n",
        "            href_str = tag.get('href')\n",
        "            file_name = re.sub('/henriquepgomide/caRtola/blob/master/data/{}/'.format(year), \n",
        "                            '', \n",
        "                            href_str)\n",
        "            \n",
        "            file_url = re.sub('/henriquepgomide/caRtola/blob/master/data/{}/'.format(year), \n",
        "                            'https://raw.githubusercontent.com/henriquepgomide/caRtola/master/data/{}/'.format(year), \n",
        "                            href_str)\n",
        "            dict_of_files[file_name] = file_url\n",
        "    \n",
        "        list_of_dataframes = []\n",
        "        for key, item in dict_of_files.items():\n",
        "            df = pd.read_csv(item)\n",
        "            df['rodada'] = key\n",
        "            list_of_dataframes.append(df)\n",
        "    \n",
        "        df_cartola = pd.concat(list_of_dataframes)\n",
        "    \n",
        "        return df_cartola\n",
        "    \n",
        "    else:\n",
        "        print('You need to add an year within the range: 2018 and 2020')"
      ],
      "execution_count": 1,
      "outputs": []
    }
  ]
}